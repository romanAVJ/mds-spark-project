{
 "cells": [
  {
   "cell_type": "markdown",
   "metadata": {},
   "source": [
    "# Proyecto de Computo Distribuido"
   ]
  },
  {
   "cell_type": "markdown",
   "metadata": {},
   "source": [
    "---\n",
    "# Settings"
   ]
  },
  {
   "cell_type": "code",
   "execution_count": 1,
   "metadata": {},
   "outputs": [
    {
     "name": "stdout",
     "output_type": "stream",
     "text": [
      "Starting Spark application\n"
     ]
    },
    {
     "data": {
      "text/html": [
       "<table>\n",
       "<tr><th>ID</th><th>YARN Application ID</th><th>Kind</th><th>State</th><th>Spark UI</th><th>Driver log</th><th>User</th><th>Current session?</th></tr><tr><td>0</td><td>application_1714170791855_0001</td><td>pyspark</td><td>idle</td><td><a target=\"_blank\" href=\"http://ip-172-31-15-46.ec2.internal:20888/proxy/application_1714170791855_0001/\">Link</a></td><td><a target=\"_blank\" href=\"http://ip-172-31-1-177.ec2.internal:8042/node/containerlogs/container_1714170791855_0001_01_000001/livy\">Link</a></td><td>None</td><td>✔</td></tr></table>"
      ],
      "text/plain": [
       "<IPython.core.display.HTML object>"
      ]
     },
     "metadata": {},
     "output_type": "display_data"
    },
    {
     "data": {
      "application/vnd.jupyter.widget-view+json": {
       "model_id": "",
       "version_major": 2,
       "version_minor": 0
      },
      "text/plain": [
       "FloatProgress(value=0.0, bar_style='info', description='Progress:', layout=Layout(height='25px', width='50%'),…"
      ]
     },
     "metadata": {},
     "output_type": "display_data"
    },
    {
     "name": "stdout",
     "output_type": "stream",
     "text": [
      "SparkSession available as 'spark'.\n"
     ]
    },
    {
     "data": {
      "application/vnd.jupyter.widget-view+json": {
       "model_id": "",
       "version_major": 2,
       "version_minor": 0
      },
      "text/plain": [
       "FloatProgress(value=0.0, bar_style='info', description='Progress:', layout=Layout(height='25px', width='50%'),…"
      ]
     },
     "metadata": {},
     "output_type": "display_data"
    }
   ],
   "source": [
    "from pyspark.sql import SparkSession\n",
    "import pyspark.sql.functions as F\n",
    "from pyspark.sql.functions import col\n",
    "from pyspark.sql.window import Window"
   ]
  },
  {
   "cell_type": "code",
   "execution_count": 2,
   "metadata": {},
   "outputs": [
    {
     "data": {
      "application/vnd.jupyter.widget-view+json": {
       "model_id": "",
       "version_major": 2,
       "version_minor": 0
      },
      "text/plain": [
       "FloatProgress(value=0.0, bar_style='info', description='Progress:', layout=Layout(height='25px', width='50%'),…"
      ]
     },
     "metadata": {},
     "output_type": "display_data"
    }
   ],
   "source": [
    "# init spark session\n",
    "spark = SparkSession.builder.appName('QPP').getOrCreate()"
   ]
  },
  {
   "cell_type": "code",
   "execution_count": 3,
   "metadata": {},
   "outputs": [
    {
     "data": {
      "application/vnd.jupyter.widget-view+json": {
       "model_id": "",
       "version_major": 2,
       "version_minor": 0
      },
      "text/plain": [
       "FloatProgress(value=0.0, bar_style='info', description='Progress:', layout=Layout(height='25px', width='50%'),…"
      ]
     },
     "metadata": {},
     "output_type": "display_data"
    }
   ],
   "source": [
    "# bucket\n",
    "NAME = 'javier'\n",
    "BUCKET = f\"s3://itam-analytics-{NAME}\"\n",
    "FOLDER = 'quien_es_quien'\n",
    "NAME_FILE = 'qqp'\n",
    "\n",
    "# type of catalog\n",
    "CATALOG_TYPE = 'medicamentos'"
   ]
  },
  {
   "cell_type": "markdown",
   "metadata": {},
   "source": [
    "---\n",
    "# Data"
   ]
  },
  {
   "cell_type": "code",
   "execution_count": 4,
   "metadata": {},
   "outputs": [
    {
     "data": {
      "application/vnd.jupyter.widget-view+json": {
       "model_id": "",
       "version_major": 2,
       "version_minor": 0
      },
      "text/plain": [
       "FloatProgress(value=0.0, bar_style='info', description='Progress:', layout=Layout(height='25px', width='50%'),…"
      ]
     },
     "metadata": {},
     "output_type": "display_data"
    }
   ],
   "source": [
    "# read raw data from S3\n",
    "df_qqp = spark.read.csv(f\"{BUCKET}/{FOLDER}/{NAME_FILE}.csv\", header=True, inferSchema=True)"
   ]
  },
  {
   "cell_type": "code",
   "execution_count": 5,
   "metadata": {},
   "outputs": [
    {
     "data": {
      "application/vnd.jupyter.widget-view+json": {
       "model_id": "",
       "version_major": 2,
       "version_minor": 0
      },
      "text/plain": [
       "FloatProgress(value=0.0, bar_style='info', description='Progress:', layout=Layout(height='25px', width='50%'),…"
      ]
     },
     "metadata": {},
     "output_type": "display_data"
    },
    {
     "name": "stdout",
     "output_type": "stream",
     "text": [
      "root\n",
      " |-- product: string (nullable = true)\n",
      " |-- presentation: string (nullable = true)\n",
      " |-- brand: string (nullable = true)\n",
      " |-- category: string (nullable = true)\n",
      " |-- catalog: string (nullable = true)\n",
      " |-- price: double (nullable = true)\n",
      " |-- created_at: timestamp (nullable = true)\n",
      " |-- store: string (nullable = true)\n",
      " |-- type_of_store: string (nullable = true)\n",
      " |-- branch: string (nullable = true)\n",
      " |-- direction: string (nullable = true)\n",
      " |-- state: string (nullable = true)\n",
      " |-- city: string (nullable = true)\n",
      " |-- latitude: string (nullable = true)\n",
      " |-- longitude: string (nullable = true)"
     ]
    }
   ],
   "source": [
    "# look columns\n",
    "df_qqp.printSchema()"
   ]
  },
  {
   "cell_type": "code",
   "execution_count": 6,
   "metadata": {},
   "outputs": [
    {
     "data": {
      "application/vnd.jupyter.widget-view+json": {
       "model_id": "",
       "version_major": 2,
       "version_minor": 0
      },
      "text/plain": [
       "FloatProgress(value=0.0, bar_style='info', description='Progress:', layout=Layout(height='25px', width='50%'),…"
      ]
     },
     "metadata": {},
     "output_type": "display_data"
    }
   ],
   "source": [
    "# save to parquet in s3, partioned by catalog type\n",
    "df_qqp.write.mode('overwrite').partitionBy('catalog').parquet(f\"{BUCKET}/{FOLDER}/Catalogo\")"
   ]
  },
  {
   "cell_type": "markdown",
   "metadata": {},
   "source": [
    "---\n",
    "# Questions"
   ]
  },
  {
   "cell_type": "markdown",
   "metadata": {},
   "source": [
    "## S1: General"
   ]
  },
  {
   "cell_type": "markdown",
   "metadata": {},
   "source": [
    "### Get Data"
   ]
  },
  {
   "cell_type": "code",
   "execution_count": 7,
   "metadata": {},
   "outputs": [
    {
     "data": {
      "application/vnd.jupyter.widget-view+json": {
       "model_id": "",
       "version_major": 2,
       "version_minor": 0
      },
      "text/plain": [
       "FloatProgress(value=0.0, bar_style='info', description='Progress:', layout=Layout(height='25px', width='50%'),…"
      ]
     },
     "metadata": {},
     "output_type": "display_data"
    },
    {
     "name": "stdout",
     "output_type": "stream",
     "text": [
      "root\n",
      " |-- product: string (nullable = true)\n",
      " |-- presentation: string (nullable = true)\n",
      " |-- brand: string (nullable = true)\n",
      " |-- category: string (nullable = true)\n",
      " |-- price: double (nullable = true)\n",
      " |-- created_at: timestamp (nullable = true)\n",
      " |-- store: string (nullable = true)\n",
      " |-- type_of_store: string (nullable = true)\n",
      " |-- branch: string (nullable = true)\n",
      " |-- direction: string (nullable = true)\n",
      " |-- state: string (nullable = true)\n",
      " |-- city: string (nullable = true)\n",
      " |-- latitude: string (nullable = true)\n",
      " |-- longitude: string (nullable = true)\n",
      " |-- catalog: string (nullable = true)"
     ]
    }
   ],
   "source": [
    "# read parquet from s3\n",
    "df_qqp = spark.read.parquet(f\"{BUCKET}/{FOLDER}/Catalogo\")\n",
    "\n",
    "# look columns\n",
    "df_qqp.printSchema()"
   ]
  },
  {
   "cell_type": "code",
   "execution_count": 14,
   "metadata": {},
   "outputs": [
    {
     "data": {
      "application/vnd.jupyter.widget-view+json": {
       "model_id": "",
       "version_major": 2,
       "version_minor": 0
      },
      "text/plain": [
       "FloatProgress(value=0.0, bar_style='info', description='Progress:', layout=Layout(height='25px', width='50%'),…"
      ]
     },
     "metadata": {},
     "output_type": "display_data"
    }
   ],
   "source": [
    "# from the column created_at, extract the year\n",
    "df_qqp = df_qqp.withColumn('year', F.year('created_at'))\n",
    "\n",
    "# if catalog is in 's/m', 'sin marca' or 'cualquier marca' then set 's/m'\n",
    "df_qqp = (\n",
    "    df_qqp\n",
    "    .withColumn(\n",
    "        'catalog', F.when(\n",
    "                col('catalog').isin('s/m', 'sin marca', 'cualquier marca'), 's/m'\n",
    "            ).otherwise(\n",
    "                col('catalog')\n",
    "            )\n",
    "        )\n",
    "    )\n",
    "\n",
    "df_qqp = df_qqp.dropna()"
   ]
  },
  {
   "cell_type": "code",
   "execution_count": 15,
   "metadata": {},
   "outputs": [
    {
     "data": {
      "application/vnd.jupyter.widget-view+json": {
       "model_id": "",
       "version_major": 2,
       "version_minor": 0
      },
      "text/plain": [
       "FloatProgress(value=0.0, bar_style='info', description='Progress:', layout=Layout(height='25px', width='50%'),…"
      ]
     },
     "metadata": {},
     "output_type": "display_data"
    },
    {
     "name": "stdout",
     "output_type": "stream",
     "text": [
      "+----+--------+\n",
      "|year|   count|\n",
      "+----+--------+\n",
      "|2018|16782901|\n",
      "|2019|13670574|\n",
      "|2020|10777186|\n",
      "|2021|12813994|\n",
      "|2022|14442801|\n",
      "|2023|14779607|\n",
      "|2024| 3621415|\n",
      "+----+--------+"
     ]
    }
   ],
   "source": [
    "# look # of rows  per year\n",
    "df_qqp.groupBy('year').count().show()"
   ]
  },
  {
   "cell_type": "markdown",
   "metadata": {},
   "source": [
    "### Q1: ¿Cuántos catálogos diferentes tenemos?"
   ]
  },
  {
   "cell_type": "code",
   "execution_count": 10,
   "metadata": {},
   "outputs": [
    {
     "data": {
      "application/vnd.jupyter.widget-view+json": {
       "model_id": "",
       "version_major": 2,
       "version_minor": 0
      },
      "text/plain": [
       "FloatProgress(value=0.0, bar_style='info', description='Progress:', layout=Layout(height='25px', width='50%'),…"
      ]
     },
     "metadata": {},
     "output_type": "display_data"
    },
    {
     "name": "stdout",
     "output_type": "stream",
     "text": [
      "+-----------------------+\n",
      "|count(DISTINCT catalog)|\n",
      "+-----------------------+\n",
      "|                     12|\n",
      "+-----------------------+"
     ]
    }
   ],
   "source": [
    "# num different catalogs\n",
    "df_qqp.agg(F.countDistinct('catalog')).show()"
   ]
  },
  {
   "cell_type": "code",
   "execution_count": 16,
   "metadata": {},
   "outputs": [
    {
     "data": {
      "application/vnd.jupyter.widget-view+json": {
       "model_id": "",
       "version_major": 2,
       "version_minor": 0
      },
      "text/plain": [
       "FloatProgress(value=0.0, bar_style='info', description='Progress:', layout=Layout(height='25px', width='50%'),…"
      ]
     },
     "metadata": {},
     "output_type": "display_data"
    },
    {
     "name": "stdout",
     "output_type": "stream",
     "text": [
      "+----+-----------------------+\n",
      "|year|count(DISTINCT catalog)|\n",
      "+----+-----------------------+\n",
      "|2018|                     10|\n",
      "|2019|                     11|\n",
      "|2020|                     10|\n",
      "|2021|                     10|\n",
      "|2022|                     11|\n",
      "|2023|                     11|\n",
      "|2024|                     10|\n",
      "+----+-----------------------+"
     ]
    }
   ],
   "source": [
    "# num different catalogs per year\n",
    "df_qqp.groupBy('year').agg(F.countDistinct('catalog')).show()"
   ]
  },
  {
   "cell_type": "markdown",
   "metadata": {},
   "source": [
    "En total hay 12 catálogos diferentes, sin embargo no todos los catálogos están presentes en todos los años. Por ejemplo, en 2018 solo hay 10 catálogos diferentes."
   ]
  },
  {
   "cell_type": "markdown",
   "metadata": {},
   "source": [
    "### Q2: ¿Cuáles son los 20 catálogos con más observaciones?"
   ]
  },
  {
   "cell_type": "code",
   "execution_count": 17,
   "metadata": {},
   "outputs": [
    {
     "data": {
      "application/vnd.jupyter.widget-view+json": {
       "model_id": "",
       "version_major": 2,
       "version_minor": 0
      },
      "text/plain": [
       "FloatProgress(value=0.0, bar_style='info', description='Progress:', layout=Layout(height='25px', width='50%'),…"
      ]
     },
     "metadata": {},
     "output_type": "display_data"
    },
    {
     "name": "stdout",
     "output_type": "stream",
     "text": [
      "+-------------------+--------+\n",
      "|            catalog|   count|\n",
      "+-------------------+--------+\n",
      "|        aeropuertos|     581|\n",
      "|              tenis|   15750|\n",
      "|          navidenos|  236352|\n",
      "|pescados y mariscos|  569571|\n",
      "|              pacic| 1078659|\n",
      "|           juguetes| 1431026|\n",
      "|           mercados| 2237959|\n",
      "|   utiles escolares| 2935730|\n",
      "| frutas y legumbres| 5040251|\n",
      "|  electrodomesticos| 7173020|\n",
      "|       medicamentos|19215972|\n",
      "|            basicos|46953607|\n",
      "+-------------------+--------+"
     ]
    }
   ],
   "source": [
    "# count num of catalogs\n",
    "(\n",
    "    df_qqp\n",
    "    .groupBy('catalog')\n",
    "    .count()\n",
    "    .orderBy('count')\n",
    "    .show()\n",
    ")"
   ]
  },
  {
   "cell_type": "markdown",
   "metadata": {},
   "source": [
    "Los productos que más se venden son los básicos, seguido de los medicamentos y electrodométsicos"
   ]
  },
  {
   "cell_type": "code",
   "execution_count": 18,
   "metadata": {},
   "outputs": [
    {
     "data": {
      "application/vnd.jupyter.widget-view+json": {
       "model_id": "",
       "version_major": 2,
       "version_minor": 0
      },
      "text/plain": [
       "FloatProgress(value=0.0, bar_style='info', description='Progress:', layout=Layout(height='25px', width='50%'),…"
      ]
     },
     "metadata": {},
     "output_type": "display_data"
    },
    {
     "name": "stdout",
     "output_type": "stream",
     "text": [
      "+----+------------------+-------+----+\n",
      "|year|           catalog|  count|rank|\n",
      "+----+------------------+-------+----+\n",
      "|2018|           basicos|8804761|   1|\n",
      "|2022|           basicos|7941826|   2|\n",
      "|2023|           basicos|7740503|   3|\n",
      "|2019|           basicos|7393082|   4|\n",
      "|2021|           basicos|6919490|   5|\n",
      "|2020|           basicos|6169196|   6|\n",
      "|2018|      medicamentos|3657969|   7|\n",
      "|2023|      medicamentos|3191800|   8|\n",
      "|2022|      medicamentos|3176569|   9|\n",
      "|2021|      medicamentos|2937404|  10|\n",
      "|2019|      medicamentos|2883869|  11|\n",
      "|2020|      medicamentos|2570873|  12|\n",
      "|2024|           basicos|1984749|  13|\n",
      "|2018| electrodomesticos|1735336|  14|\n",
      "|2019| electrodomesticos|1350759|  15|\n",
      "|2023| electrodomesticos|1183127|  16|\n",
      "|2022| electrodomesticos|1028880|  17|\n",
      "|2021| electrodomesticos|1004833|  18|\n",
      "|2018|frutas y legumbres| 938616|  19|\n",
      "|2022|frutas y legumbres| 925519|  20|\n",
      "+----+------------------+-------+----+"
     ]
    }
   ],
   "source": [
    "# table count of each catalog, show only first 20\n",
    "table_count_catalogue = df_qqp.groupBy('year', 'catalog').count().orderBy('year', 'catalog')\n",
    "\n",
    "# get only first 20 per year\n",
    "table_count_catalogue = (\n",
    "    table_count_catalogue\n",
    "    .withColumn('rank', F.row_number().over(\n",
    "        Window.partitionBy().orderBy(F.desc('count'))\n",
    "        ))\n",
    "    .filter('rank <= 20')\n",
    "    )\n",
    "table_count_catalogue.show()"
   ]
  },
  {
   "cell_type": "code",
   "execution_count": 19,
   "metadata": {},
   "outputs": [
    {
     "data": {
      "application/vnd.jupyter.widget-view+json": {
       "model_id": "",
       "version_major": 2,
       "version_minor": 0
      },
      "text/plain": [
       "FloatProgress(value=0.0, bar_style='info', description='Progress:', layout=Layout(height='25px', width='50%'),…"
      ]
     },
     "metadata": {},
     "output_type": "display_data"
    }
   ],
   "source": [
    "# save top20 to parquet in s3\n",
    "table_count_catalogue.write.mode('overwrite').parquet(f\"{BUCKET}/{FOLDER}/Top20\")"
   ]
  },
  {
   "cell_type": "markdown",
   "metadata": {},
   "source": [
    "En una tabla aparte se pueden observar los 20 catalogos con más productos en cada año"
   ]
  },
  {
   "cell_type": "markdown",
   "metadata": {},
   "source": [
    "### Q3: ¿Tenemos datos de todos los estados del país? De no ser así, ¿cuáles faltan?"
   ]
  },
  {
   "cell_type": "code",
   "execution_count": 20,
   "metadata": {},
   "outputs": [
    {
     "data": {
      "application/vnd.jupyter.widget-view+json": {
       "model_id": "",
       "version_major": 2,
       "version_minor": 0
      },
      "text/plain": [
       "FloatProgress(value=0.0, bar_style='info', description='Progress:', layout=Layout(height='25px', width='50%'),…"
      ]
     },
     "metadata": {},
     "output_type": "display_data"
    },
    {
     "name": "stdout",
     "output_type": "stream",
     "text": [
      "Missing: 586"
     ]
    }
   ],
   "source": [
    "# get table count for each year catalog the # of distinct states\n",
    "table_count_num_states_per_year_catalog = (\n",
    "    df_qqp\n",
    "    .groupBy('catalog', 'state', 'year')\n",
    "    .count()\n",
    "    .orderBy('catalog', 'state', 'year')\n",
    "    )\n",
    "\n",
    "# generate table of # of distinct states per year and catalog\n",
    "distinct_states = df_qqp.select('state').distinct()\n",
    "distinct_years = df_qqp.select('year').distinct()\n",
    "distinct_catalogs = df_qqp.select('catalog').distinct()\n",
    "\n",
    "df_cross_join_state_year_catalog = (\n",
    "    distinct_catalogs\n",
    "    .crossJoin(distinct_states)\n",
    "    .crossJoin(distinct_years)\n",
    "    )\n",
    "\n",
    "# get which catalog state and year are missing\n",
    "table_missing = (\n",
    "    df_cross_join_state_year_catalog\n",
    "    .join(table_count_num_states_per_year_catalog, ['catalog', 'state', 'year'], 'left')\n",
    "    .filter('count is null')\n",
    "    )\n",
    "\n",
    "# show missing\n",
    "print(f\"Missing: {table_missing.count()}\")"
   ]
  },
  {
   "cell_type": "markdown",
   "metadata": {},
   "source": [
    "Hay 586 combinaciones entre catálogo, estado y año que no tienen información. En una tabla aparte se pueden visualizar cuales son."
   ]
  },
  {
   "cell_type": "code",
   "execution_count": 21,
   "metadata": {},
   "outputs": [
    {
     "data": {
      "application/vnd.jupyter.widget-view+json": {
       "model_id": "",
       "version_major": 2,
       "version_minor": 0
      },
      "text/plain": [
       "FloatProgress(value=0.0, bar_style='info', description='Progress:', layout=Layout(height='25px', width='50%'),…"
      ]
     },
     "metadata": {},
     "output_type": "display_data"
    },
    {
     "name": "stdout",
     "output_type": "stream",
     "text": [
      "+------------------+-------------------+----+-----+\n",
      "|           catalog|              state|year|count|\n",
      "+------------------+-------------------+----+-----+\n",
      "|             pacic|           guerrero|2021| NULL|\n",
      "|          juguetes|            nayarit|2024| NULL|\n",
      "|             pacic|       quintana roo|2021| NULL|\n",
      "|  utiles escolares|            sinaloa|2023| NULL|\n",
      "|             pacic|          queretaro|2021| NULL|\n",
      "|             tenis|           tlaxcala|2024| NULL|\n",
      "|           basicos|            nayarit|2024| NULL|\n",
      "|             pacic|            durango|2019| NULL|\n",
      "|  utiles escolares|           guerrero|2023| NULL|\n",
      "|       aeropuertos|          queretaro|2023| NULL|\n",
      "|frutas y legumbres|            nayarit|2020| NULL|\n",
      "|  utiles escolares|             sonora|2020| NULL|\n",
      "|       aeropuertos|baja california sur|2019| NULL|\n",
      "|             pacic|          chihuahua|2021| NULL|\n",
      "|             tenis|    baja california|2024| NULL|\n",
      "|             tenis|            yucatan|2024| NULL|\n",
      "|       aeropuertos|   estado de mexico|2021| NULL|\n",
      "|  utiles escolares|             colima|2024| NULL|\n",
      "|             pacic|   ciudad de mexico|2021| NULL|\n",
      "|             pacic|             colima|2022| NULL|\n",
      "+------------------+-------------------+----+-----+\n",
      "only showing top 20 rows"
     ]
    }
   ],
   "source": [
    "# look\n",
    "table_missing.show()"
   ]
  },
  {
   "cell_type": "markdown",
   "metadata": {},
   "source": [
    "No hay datos para todos los estados. Faltan 2 estados a partir del 2021."
   ]
  },
  {
   "cell_type": "code",
   "execution_count": 22,
   "metadata": {},
   "outputs": [
    {
     "data": {
      "application/vnd.jupyter.widget-view+json": {
       "model_id": "",
       "version_major": 2,
       "version_minor": 0
      },
      "text/plain": [
       "FloatProgress(value=0.0, bar_style='info', description='Progress:', layout=Layout(height='25px', width='50%'),…"
      ]
     },
     "metadata": {},
     "output_type": "display_data"
    },
    {
     "name": "stdout",
     "output_type": "stream",
     "text": [
      "+-------------------+----+------+\n",
      "|              state|year| count|\n",
      "+-------------------+----+------+\n",
      "|     aguascalientes|2018|235847|\n",
      "|     aguascalientes|2019|281560|\n",
      "|     aguascalientes|2020|216598|\n",
      "|     aguascalientes|2021|240772|\n",
      "|     aguascalientes|2022|291820|\n",
      "|     aguascalientes|2023|313809|\n",
      "|     aguascalientes|2024| 79726|\n",
      "|    baja california|2018|619093|\n",
      "|    baja california|2019|165344|\n",
      "|    baja california|2020|195002|\n",
      "|    baja california|2021|104216|\n",
      "|    baja california|2022|160203|\n",
      "|    baja california|2023|209715|\n",
      "|    baja california|2024| 60414|\n",
      "|baja california sur|2018|163771|\n",
      "|baja california sur|2019|135558|\n",
      "|baja california sur|2020|243375|\n",
      "|baja california sur|2021|283821|\n",
      "|baja california sur|2022|282548|\n",
      "|baja california sur|2023|291569|\n",
      "+-------------------+----+------+\n",
      "only showing top 20 rows"
     ]
    }
   ],
   "source": [
    "# get table of the names of the states\n",
    "table_states = df_qqp.select('state').distinct().orderBy('state')\n",
    "\n",
    "# count the # of rows per state and year\n",
    "table_count_states = df_qqp.groupBy('state', 'year').count().orderBy('state', 'year')\n",
    "table_count_states.show()"
   ]
  },
  {
   "cell_type": "code",
   "execution_count": 23,
   "metadata": {},
   "outputs": [
    {
     "data": {
      "application/vnd.jupyter.widget-view+json": {
       "model_id": "",
       "version_major": 2,
       "version_minor": 0
      },
      "text/plain": [
       "FloatProgress(value=0.0, bar_style='info', description='Progress:', layout=Layout(height='25px', width='50%'),…"
      ]
     },
     "metadata": {},
     "output_type": "display_data"
    },
    {
     "name": "stdout",
     "output_type": "stream",
     "text": [
      "+--------------------+----+----+----+----+----+----+----+\n",
      "|               state|2018|2019|2020|2021|2022|2023|2024|\n",
      "+--------------------+----+----+----+----+----+----+----+\n",
      "|      aguascalientes|   1|   1|   1|   1|   1|   1|   1|\n",
      "|     baja california|   1|   1|   1|   1|   1|   1|   1|\n",
      "| baja california sur|   1|   1|   1|   1|   1|   1|   1|\n",
      "|            campeche|   1|   1|   1|   1|   1|   1|   1|\n",
      "|             chiapas|   1|   1|   1|   1|   1|   1|   1|\n",
      "|           chihuahua|   1|   1|   1|   1|   1|   1|   1|\n",
      "|    ciudad de mexico|   1|   1|   1|   1|   1|   1|   1|\n",
      "|coahuila de zaragoza|   1|   1|   1|   1|   1|   1|   1|\n",
      "|              colima|   1|   1|   1|NULL|NULL|NULL|NULL|\n",
      "|             durango|   1|   1|   1|   1|   1|   1|   1|\n",
      "|    estado de mexico|   1|   1|   1|   1|   1|   1|   1|\n",
      "|          guanajuato|   1|   1|   1|   1|   1|   1|   1|\n",
      "|            guerrero|   1|   1|   1|   1|   1|   1|   1|\n",
      "|             hidalgo|   1|   1|   1|   1|   1|   1|   1|\n",
      "|             jalisco|   1|   1|   1|   1|   1|   1|   1|\n",
      "| michoacan de ocampo|   1|   1|   1|   1|   1|   1|   1|\n",
      "|             morelos|   1|   1|   1|   1|   1|   1|   1|\n",
      "|             nayarit|   1|   1|   1|NULL|NULL|NULL|NULL|\n",
      "|          nuevo leon|   1|   1|   1|   1|   1|   1|   1|\n",
      "|              oaxaca|   1|   1|   1|   1|   1|   1|   1|\n",
      "|              puebla|   1|   1|   1|   1|   1|   1|   1|\n",
      "|           queretaro|   1|   1|   1|   1|   1|   1|   1|\n",
      "|        quintana roo|   1|   1|   1|   1|   1|   1|   1|\n",
      "|     san luis potosi|   1|   1|   1|   1|   1|   1|   1|\n",
      "|             sinaloa|   1|   1|   1|   1|   1|   1|   1|\n",
      "|              sonora|   1|   1|   1|   1|   1|   1|   1|\n",
      "|             tabasco|   1|   1|   1|   1|   1|   1|   1|\n",
      "|          tamaulipas|   1|   1|   1|   1|   1|   1|   1|\n",
      "|            tlaxcala|   1|   1|   1|   1|   1|   1|   1|\n",
      "|            veracruz|   1|   1|   1|   1|   1|   1|   1|\n",
      "|             yucatan|   1|   1|   1|   1|   1|   1|   1|\n",
      "|           zacatecas|   1|   1|   1|   1|   1|   1|   1|\n",
      "+--------------------+----+----+----+----+----+----+----+"
     ]
    }
   ],
   "source": [
    "# pivot the table to have years as columns\n",
    "(\n",
    "    table_count_states\n",
    "    .groupBy('state')\n",
    "    .pivot('year')\n",
    "    .agg(F.coalesce(F.lit(1), F.lit(0)))\n",
    "    .orderBy('state')\n",
    "    .show(32)\n",
    "    )"
   ]
  },
  {
   "cell_type": "markdown",
   "metadata": {},
   "source": [
    "Los estados que no tienen información de ciertos catálogos son los estados de Colima y Nayarit a partir del 2020"
   ]
  },
  {
   "cell_type": "markdown",
   "metadata": {},
   "source": [
    "### Q4: ¿Cuántas observaciones tenemos por estado?\n"
   ]
  },
  {
   "cell_type": "code",
   "execution_count": 24,
   "metadata": {},
   "outputs": [
    {
     "data": {
      "application/vnd.jupyter.widget-view+json": {
       "model_id": "",
       "version_major": 2,
       "version_minor": 0
      },
      "text/plain": [
       "FloatProgress(value=0.0, bar_style='info', description='Progress:', layout=Layout(height='25px', width='50%'),…"
      ]
     },
     "metadata": {},
     "output_type": "display_data"
    },
    {
     "name": "stdout",
     "output_type": "stream",
     "text": [
      "+--------------------+--------+\n",
      "|               state|   count|\n",
      "+--------------------+--------+\n",
      "|      aguascalientes| 1660132|\n",
      "|     baja california| 1513987|\n",
      "| baja california sur| 1475628|\n",
      "|            campeche| 1763278|\n",
      "|             chiapas| 1163732|\n",
      "|           chihuahua| 1798478|\n",
      "|    ciudad de mexico|17968798|\n",
      "|coahuila de zaragoza| 1613314|\n",
      "|              colima|  560520|\n",
      "|             durango| 1616227|\n",
      "|    estado de mexico|12531135|\n",
      "|          guanajuato| 3330005|\n",
      "|            guerrero|  981815|\n",
      "|             hidalgo|  868532|\n",
      "|             jalisco| 4182990|\n",
      "| michoacan de ocampo| 1538864|\n",
      "|             morelos| 1026711|\n",
      "|             nayarit|  266068|\n",
      "|          nuevo leon| 3358320|\n",
      "|              oaxaca| 1536513|\n",
      "+--------------------+--------+\n",
      "only showing top 20 rows"
     ]
    }
   ],
   "source": [
    "# count the # of rows per state\n",
    "df_qqp.groupBy('state').count().orderBy('state').show()"
   ]
  },
  {
   "cell_type": "markdown",
   "metadata": {},
   "source": [
    "La tabla superior muestra los conteos de observaciones por estado. La `ciudad de méxico` es la que predomina"
   ]
  },
  {
   "cell_type": "code",
   "execution_count": 25,
   "metadata": {},
   "outputs": [
    {
     "data": {
      "application/vnd.jupyter.widget-view+json": {
       "model_id": "",
       "version_major": 2,
       "version_minor": 0
      },
      "text/plain": [
       "FloatProgress(value=0.0, bar_style='info', description='Progress:', layout=Layout(height='25px', width='50%'),…"
      ]
     },
     "metadata": {},
     "output_type": "display_data"
    },
    {
     "name": "stdout",
     "output_type": "stream",
     "text": [
      "+--------------+------------------+----+------+\n",
      "|         state|           catalog|year| count|\n",
      "+--------------+------------------+----+------+\n",
      "|aguascalientes|       aeropuertos|2019|   121|\n",
      "|aguascalientes|           basicos|2018|106821|\n",
      "|aguascalientes|           basicos|2019|133114|\n",
      "|aguascalientes|           basicos|2020|105656|\n",
      "|aguascalientes|           basicos|2021|112011|\n",
      "|aguascalientes|           basicos|2022|136357|\n",
      "|aguascalientes|           basicos|2023|137803|\n",
      "|aguascalientes|           basicos|2024| 37042|\n",
      "|aguascalientes| electrodomesticos|2018| 26044|\n",
      "|aguascalientes| electrodomesticos|2019| 36493|\n",
      "|aguascalientes| electrodomesticos|2020| 18383|\n",
      "|aguascalientes| electrodomesticos|2021| 26257|\n",
      "|aguascalientes| electrodomesticos|2022| 31491|\n",
      "|aguascalientes| electrodomesticos|2023| 36656|\n",
      "|aguascalientes| electrodomesticos|2024|  8228|\n",
      "|aguascalientes|frutas y legumbres|2018| 12824|\n",
      "|aguascalientes|frutas y legumbres|2019| 14035|\n",
      "|aguascalientes|frutas y legumbres|2020| 13024|\n",
      "|aguascalientes|frutas y legumbres|2021| 12997|\n",
      "|aguascalientes|frutas y legumbres|2022| 18514|\n",
      "+--------------+------------------+----+------+\n",
      "only showing top 20 rows"
     ]
    }
   ],
   "source": [
    "# count the number of different catalogs (WIP)\n",
    "table_qqp_state_catalog_year = (\n",
    "    df_qqp\n",
    "    .groupBy('state', 'catalog', 'year')\n",
    "    .count()\n",
    "    .orderBy('state', 'catalog', 'year')\n",
    "    )\n",
    "table_qqp_state_catalog_year.show()"
   ]
  },
  {
   "cell_type": "markdown",
   "metadata": {},
   "source": [
    "En una tabla por aparte se pueden observar el numero de observaciones por estado, catálogo y año"
   ]
  },
  {
   "cell_type": "markdown",
   "metadata": {},
   "source": [
    "### Q5: De cada estado obten: el número de catalogos diferentes por año, ¿ha aumentado el número de catálogos con el tiempo?"
   ]
  },
  {
   "cell_type": "code",
   "execution_count": 26,
   "metadata": {},
   "outputs": [
    {
     "data": {
      "application/vnd.jupyter.widget-view+json": {
       "model_id": "",
       "version_major": 2,
       "version_minor": 0
      },
      "text/plain": [
       "FloatProgress(value=0.0, bar_style='info', description='Progress:', layout=Layout(height='25px', width='50%'),…"
      ]
     },
     "metadata": {},
     "output_type": "display_data"
    },
    {
     "name": "stdout",
     "output_type": "stream",
     "text": [
      "+--------------------+----+----+----+----+----+----+----+\n",
      "|               state|2018|2019|2020|2021|2022|2023|2024|\n",
      "+--------------------+----+----+----+----+----+----+----+\n",
      "|      aguascalientes|   9|  11|   9|  10|  11|  11|   9|\n",
      "|     baja california|  10|  10|   9|   9|  11|  11|  10|\n",
      "| baja california sur|   9|  10|   9|  10|  11|  11|  10|\n",
      "|            campeche|   9|   9|   9|  10|  11|  11|   9|\n",
      "|             chiapas|  10|  10|   9|   9|  10|  10|   8|\n",
      "|           chihuahua|  10|  11|   5|  10|  11|  11|  10|\n",
      "|    ciudad de mexico|  10|  10|   9|  10|  11|  11|  10|\n",
      "|coahuila de zaragoza|  10|   9|   9|  10|  11|  11|  10|\n",
      "|              colima|  10|  10|   4|NULL|NULL|NULL|NULL|\n",
      "|             durango|  10|  10|   9|  10|  11|  11|   9|\n",
      "|    estado de mexico|  10|  10|   9|  10|  11|  11|  10|\n",
      "|          guanajuato|  10|  10|   9|  10|  11|  11|   9|\n",
      "|            guerrero|  10|  10|   8|   8|   8|   7|   9|\n",
      "|             hidalgo|  10|  11|   9|   9|  10|  11|   8|\n",
      "|             jalisco|  10|  10|   9|  10|  11|  11|  10|\n",
      "| michoacan de ocampo|   9|   9|   9|  10|  11|  11|  10|\n",
      "|             morelos|   9|   9|   5|  10|  11|  11|  10|\n",
      "|             nayarit|  10|   8|   3|NULL|NULL|NULL|NULL|\n",
      "|          nuevo leon|  10|  10|   9|  10|  11|  11|  10|\n",
      "|              oaxaca|  10|   9|   9|  10|  10|  10|   9|\n",
      "|              puebla|   9|   9|   8|   9|  10|  10|   9|\n",
      "|           queretaro|   9|  10|   9|  10|  11|  11|  10|\n",
      "|        quintana roo|  10|  10|   9|  10|  11|  10|   9|\n",
      "|     san luis potosi|  10|  11|   9|  10|  11|  11|   9|\n",
      "|             sinaloa|  10|   9|   9|   9|  10|   6|   5|\n",
      "|              sonora|  10|  10|   6|  10|  11|  11|   9|\n",
      "|             tabasco|  10|  10|   9|   9|  11|  11|   9|\n",
      "|          tamaulipas|  10|  10|   9|  10|  10|  11|  10|\n",
      "|            tlaxcala|  10|  10|   9|  10|  11|  11|   9|\n",
      "|            veracruz|  10|  11|   9|  10|  11|  10|  10|\n",
      "|             yucatan|  10|  10|  10|  10|  11|  11|  10|\n",
      "|           zacatecas|  10|  10|   9|  10|  11|  11|  10|\n",
      "+--------------------+----+----+----+----+----+----+----+"
     ]
    }
   ],
   "source": [
    "# count the number of different catalogs per year\n",
    "table_qqp_year_state_diff_catalog = (\n",
    "    df_qqp\n",
    "    .groupBy('state', 'year')\n",
    "    .agg(F.countDistinct('catalog').alias('count_catalogs'))\n",
    "    .orderBy('state', 'year')\n",
    "    .groupBy('state')\n",
    "    .pivot('year')\n",
    "    .agg(F.first('count_catalogs'))\n",
    "    .orderBy('state')\n",
    "    )\n",
    "table_qqp_year_state_diff_catalog.show(32)"
   ]
  },
  {
   "cell_type": "markdown",
   "metadata": {},
   "source": [
    "Falta observar tendencias en el tiempo para afirmar si hay un crecimiento en el número de catálogos por estado, sin embargo se muestra como para Colima y Nayarit bajó"
   ]
  },
  {
   "cell_type": "markdown",
   "metadata": {},
   "source": [
    "### Save tables"
   ]
  },
  {
   "cell_type": "code",
   "execution_count": 27,
   "metadata": {},
   "outputs": [
    {
     "data": {
      "application/vnd.jupyter.widget-view+json": {
       "model_id": "",
       "version_major": 2,
       "version_minor": 0
      },
      "text/plain": [
       "FloatProgress(value=0.0, bar_style='info', description='Progress:', layout=Layout(height='25px', width='50%'),…"
      ]
     },
     "metadata": {},
     "output_type": "display_data"
    }
   ],
   "source": [
    "# save tables to s3\n",
    "table_count_catalogue.write.mode('overwrite').parquet(f\"{BUCKET}/{FOLDER}/ouputs/all/table_count_catalogue\")\n",
    "table_missing.write.mode('overwrite').parquet(f\"{BUCKET}/{FOLDER}/ouputs/all/table_missing\")\n",
    "table_qqp_state_catalog_year.write.mode('overwrite').parquet(f\"{BUCKET}/{FOLDER}/ouputs/all/table_qqp_state_catalog_year\")\n",
    "table_qqp_year_state_diff_catalog.write.mode('overwrite').parquet(f\"{BUCKET}/{FOLDER}/ouputs/all/table_qqp_year_state_diff_catalog\")"
   ]
  },
  {
   "cell_type": "markdown",
   "metadata": {},
   "source": [
    "## S2: Particular"
   ]
  },
  {
   "cell_type": "markdown",
   "metadata": {},
   "source": [
    "### Get Data"
   ]
  },
  {
   "cell_type": "code",
   "execution_count": 28,
   "metadata": {},
   "outputs": [
    {
     "data": {
      "application/vnd.jupyter.widget-view+json": {
       "model_id": "",
       "version_major": 2,
       "version_minor": 0
      },
      "text/plain": [
       "FloatProgress(value=0.0, bar_style='info', description='Progress:', layout=Layout(height='25px', width='50%'),…"
      ]
     },
     "metadata": {},
     "output_type": "display_data"
    },
    {
     "name": "stdout",
     "output_type": "stream",
     "text": [
      "19215973"
     ]
    }
   ],
   "source": [
    "# read raw data from S3\n",
    "tbl_medicamentos = spark.read.option(\"header\",True).parquet(\"s3://itam-analytics-javier/quien_es_quien/Catalogo/catalog=medicamentos/*.parquet\")\n",
    "\n",
    "# look # of rows\n",
    "tbl_medicamentos.count()"
   ]
  },
  {
   "cell_type": "markdown",
   "metadata": {},
   "source": [
    "### Q1: ¿Cuańtas marcas diferentes tiene tu categoría?"
   ]
  },
  {
   "cell_type": "code",
   "execution_count": 29,
   "metadata": {},
   "outputs": [
    {
     "data": {
      "application/vnd.jupyter.widget-view+json": {
       "model_id": "",
       "version_major": 2,
       "version_minor": 0
      },
      "text/plain": [
       "FloatProgress(value=0.0, bar_style='info', description='Progress:', layout=Layout(height='25px', width='50%'),…"
      ]
     },
     "metadata": {},
     "output_type": "display_data"
    },
    {
     "name": "stdout",
     "output_type": "stream",
     "text": [
      "40"
     ]
    }
   ],
   "source": [
    "# how many different brands are there?\n",
    "tbl_medicamentos.select('brand').distinct().count()"
   ]
  },
  {
   "cell_type": "markdown",
   "metadata": {},
   "source": [
    "### Q2: ¿Cuál es la marca con mayor precio? ¿En qué estado?"
   ]
  },
  {
   "cell_type": "code",
   "execution_count": 35,
   "metadata": {},
   "outputs": [
    {
     "data": {
      "application/vnd.jupyter.widget-view+json": {
       "model_id": "",
       "version_major": 2,
       "version_minor": 0
      },
      "text/plain": [
       "FloatProgress(value=0.0, bar_style='info', description='Progress:', layout=Layout(height='25px', width='50%'),…"
      ]
     },
     "metadata": {},
     "output_type": "display_data"
    },
    {
     "name": "stdout",
     "output_type": "stream",
     "text": [
      "+-----+---------+------+\n",
      "|brand|    state| price|\n",
      "+-----+---------+------+\n",
      "|  s/m|chihuahua|5275.0|\n",
      "+-----+---------+------+\n",
      "only showing top 1 row"
     ]
    }
   ],
   "source": [
    "# which brand has the highest price and in which state?\n",
    "(\n",
    "    tbl_medicamentos\n",
    "    .orderBy(col('price').desc())\n",
    "    .select('brand', 'state', 'price').show(1)\n",
    "    )"
   ]
  },
  {
   "cell_type": "markdown",
   "metadata": {},
   "source": [
    "Hay un producto `sin marca` en el estado de `Chihuaha` con un precio de $5,275; el cual sería el máximo"
   ]
  },
  {
   "cell_type": "code",
   "execution_count": 32,
   "metadata": {},
   "outputs": [
    {
     "data": {
      "application/vnd.jupyter.widget-view+json": {
       "model_id": "",
       "version_major": 2,
       "version_minor": 0
      },
      "text/plain": [
       "FloatProgress(value=0.0, bar_style='info', description='Progress:', layout=Layout(height='25px', width='50%'),…"
      ]
     },
     "metadata": {},
     "output_type": "display_data"
    },
    {
     "name": "stdout",
     "output_type": "stream",
     "text": [
      "+-----+-------------------+-------+\n",
      "|brand|              state|  price|\n",
      "+-----+-------------------+-------+\n",
      "|omron|baja california sur|1999.99|\n",
      "+-----+-------------------+-------+\n",
      "only showing top 1 row"
     ]
    }
   ],
   "source": [
    "# which brand has the highest price and in which state?\n",
    "(\n",
    "    tbl_medicamentos\n",
    "    .filter(~col('brand').isin('s/m', 'sin marca', 'cualquier marca'))\n",
    "    .orderBy(col('price').desc())\n",
    "    .select('brand', 'state', 'price').show(1)\n",
    "    )"
   ]
  },
  {
   "cell_type": "markdown",
   "metadata": {},
   "source": [
    "El producto `omron` es el producto _identificable_ más caro de QQP, procedente del estadio de `Baja California Sur`"
   ]
  },
  {
   "cell_type": "markdown",
   "metadata": {},
   "source": [
    "### Q3: ¿Cuál es la marca con menor precio en CDMX? (en aquel entonces Distrito Federal)\n"
   ]
  },
  {
   "cell_type": "code",
   "execution_count": 38,
   "metadata": {},
   "outputs": [
    {
     "data": {
      "application/vnd.jupyter.widget-view+json": {
       "model_id": "",
       "version_major": 2,
       "version_minor": 0
      },
      "text/plain": [
       "FloatProgress(value=0.0, bar_style='info', description='Progress:', layout=Layout(height='25px', width='50%'),…"
      ]
     },
     "metadata": {},
     "output_type": "display_data"
    },
    {
     "name": "stdout",
     "output_type": "stream",
     "text": [
      "+------+----------------+-----+\n",
      "| brand|           state|price|\n",
      "+------+----------------+-----+\n",
      "|protec|ciudad de mexico| 5.21|\n",
      "+------+----------------+-----+\n",
      "only showing top 1 row"
     ]
    }
   ],
   "source": [
    "# idem but in CDMX\n",
    "# which brand has the lowest price and in which state?\n",
    "(\n",
    "    tbl_medicamentos\n",
    "    .filter(~col('brand').isin('s/m', 'sin marca', 'cualquier marca'))\n",
    "    .filter(col('state') == 'ciudad de mexico')\n",
    "    .orderBy(col('price').asc())\n",
    "    .select('brand', 'state', 'price').show(1)\n",
    "    )"
   ]
  },
  {
   "cell_type": "markdown",
   "metadata": {},
   "source": [
    "La marca más barata es Protect, con un precio promedio de $5.21"
   ]
  },
  {
   "cell_type": "markdown",
   "metadata": {},
   "source": [
    "### Q4: ¿Cuál es la marca con mayores observaciones?"
   ]
  },
  {
   "cell_type": "code",
   "execution_count": 40,
   "metadata": {},
   "outputs": [
    {
     "data": {
      "application/vnd.jupyter.widget-view+json": {
       "model_id": "",
       "version_major": 2,
       "version_minor": 0
      },
      "text/plain": [
       "FloatProgress(value=0.0, bar_style='info', description='Progress:', layout=Layout(height='25px', width='50%'),…"
      ]
     },
     "metadata": {},
     "output_type": "display_data"
    },
    {
     "name": "stdout",
     "output_type": "stream",
     "text": [
      "+--------------------+--------+\n",
      "|               brand|   count|\n",
      "+--------------------+--------+\n",
      "|                 s/m|17833565|\n",
      "|           sin marca|  236467|\n",
      "|     cualquier marca|  189764|\n",
      "|              le roy|  164805|\n",
      "|                zuum|  105381|\n",
      "|               omron|   80830|\n",
      "|            medimart|   70578|\n",
      "|               dalux|   68817|\n",
      "|              protec|   62108|\n",
      "|              ensure|   49258|\n",
      "|         quality day|   39434|\n",
      "|             nebucor|   31952|\n",
      "|escudo antibacterial|   30992|\n",
      "|            vitascom|   30293|\n",
      "|             curitas|   29325|\n",
      "|             soriana|   26033|\n",
      "|inhala care  o ho...|   21635|\n",
      "|          zuum. klin|   18975|\n",
      "|           microlife|   18242|\n",
      "|         3m. nexcare|   15335|\n",
      "+--------------------+--------+\n",
      "only showing top 20 rows"
     ]
    }
   ],
   "source": [
    "# which brand has more observations?\n",
    "table_brand_count = tbl_medicamentos.groupBy('brand').count().orderBy('count', ascending=False)\n",
    "table_brand_count.show()"
   ]
  },
  {
   "cell_type": "markdown",
   "metadata": {},
   "source": [
    "La marca _identificable_ con más observaciones es la marca `le roy`"
   ]
  },
  {
   "cell_type": "markdown",
   "metadata": {},
   "source": [
    "### Q5: ¿Cuáles son el top 5 de marcas con mayor precio en cada estado? ¿Son diferentes?"
   ]
  },
  {
   "cell_type": "code",
   "execution_count": 41,
   "metadata": {},
   "outputs": [
    {
     "data": {
      "application/vnd.jupyter.widget-view+json": {
       "model_id": "",
       "version_major": 2,
       "version_minor": 0
      },
      "text/plain": [
       "FloatProgress(value=0.0, bar_style='info', description='Progress:', layout=Layout(height='25px', width='50%'),…"
      ]
     },
     "metadata": {},
     "output_type": "display_data"
    }
   ],
   "source": [
    "# for each state, get the top 5 most expensive brands (WIP)\n",
    "table_price_brand_top5 = (\n",
    "    tbl_medicamentos\n",
    "    .groupBy('state', 'brand')\n",
    "    .agg(F.max('price').alias('max_price'))\n",
    "    .orderBy(col('max_price').desc())\n",
    "    .withColumn('rank', F.row_number().over(\n",
    "        Window.partitionBy('state').orderBy(F.desc('max_price'))\n",
    "        ))\n",
    "    .filter('rank <= 5')\n",
    "    )"
   ]
  },
  {
   "cell_type": "markdown",
   "metadata": {},
   "source": [
    "Las top 5 marcas con mayo precio se pueden encontrar en una tabla aparte"
   ]
  },
  {
   "cell_type": "markdown",
   "metadata": {},
   "source": [
    "### Q6: ¿Cuáles son el top 5 de marcas con menor precio en CDMX? (en aquel entonces Distrito Federal)"
   ]
  },
  {
   "cell_type": "code",
   "execution_count": 42,
   "metadata": {},
   "outputs": [
    {
     "data": {
      "application/vnd.jupyter.widget-view+json": {
       "model_id": "",
       "version_major": 2,
       "version_minor": 0
      },
      "text/plain": [
       "FloatProgress(value=0.0, bar_style='info', description='Progress:', layout=Layout(height='25px', width='50%'),…"
      ]
     },
     "metadata": {},
     "output_type": "display_data"
    },
    {
     "name": "stdout",
     "output_type": "stream",
     "text": [
      "+--------------------+---------+\n",
      "|               brand|min_price|\n",
      "+--------------------+---------+\n",
      "|                 s/m|      5.0|\n",
      "|              protec|     5.21|\n",
      "|         quality day|      5.4|\n",
      "|             soriana|      6.0|\n",
      "|     cualquier marca|      7.5|\n",
      "|            farmacom|      7.5|\n",
      "|escudo antibacterial|      9.9|\n",
      "|            vitascom|     10.0|\n",
      "+--------------------+---------+\n",
      "only showing top 8 rows"
     ]
    }
   ],
   "source": [
    "# top 5 least expensive brands in CDMX\n",
    "(\n",
    "    tbl_medicamentos\n",
    "    .filter(col('state') == 'ciudad de mexico')\n",
    "    .groupBy('brand')\n",
    "    .agg(F.min('price').alias('min_price'))\n",
    "    .orderBy(col('min_price').asc())\n",
    "    .select('brand', 'min_price')\n",
    "    .show(8)\n",
    "    )"
   ]
  },
  {
   "cell_type": "markdown",
   "metadata": {},
   "source": [
    "Las marcas _identificables_ con el menor precio de la CDMX son `protec` `quality day` `soriana` `farmacom` y `escudo antibacterial`"
   ]
  },
  {
   "cell_type": "markdown",
   "metadata": {},
   "source": [
    "### Q7: ¿Cuáles son el top 5 de marcas con mayores observaciones? ¿Se parecen a las de nivel por estado?"
   ]
  },
  {
   "cell_type": "code",
   "execution_count": 43,
   "metadata": {},
   "outputs": [
    {
     "data": {
      "application/vnd.jupyter.widget-view+json": {
       "model_id": "",
       "version_major": 2,
       "version_minor": 0
      },
      "text/plain": [
       "FloatProgress(value=0.0, bar_style='info', description='Progress:', layout=Layout(height='25px', width='50%'),…"
      ]
     },
     "metadata": {},
     "output_type": "display_data"
    },
    {
     "name": "stdout",
     "output_type": "stream",
     "text": [
      "+--------------------+--------+\n",
      "|               brand|   count|\n",
      "+--------------------+--------+\n",
      "|                 s/m|17833565|\n",
      "|           sin marca|  236467|\n",
      "|     cualquier marca|  189764|\n",
      "|              le roy|  164805|\n",
      "|                zuum|  105381|\n",
      "|               omron|   80830|\n",
      "|            medimart|   70578|\n",
      "|               dalux|   68817|\n",
      "|              protec|   62108|\n",
      "|              ensure|   49258|\n",
      "|         quality day|   39434|\n",
      "|             nebucor|   31952|\n",
      "|escudo antibacterial|   30992|\n",
      "|            vitascom|   30293|\n",
      "|             curitas|   29325|\n",
      "|             soriana|   26033|\n",
      "|inhala care  o ho...|   21635|\n",
      "|          zuum. klin|   18975|\n",
      "|           microlife|   18242|\n",
      "|         3m. nexcare|   15335|\n",
      "+--------------------+--------+\n",
      "only showing top 20 rows"
     ]
    }
   ],
   "source": [
    "# top 5 brands with more observations per state (WIP)\n",
    "(\n",
    "    tbl_medicamentos\n",
    "    .groupBy('brand')\n",
    "    .count()\n",
    "    .orderBy('count', ascending=False)\n",
    "    .show()\n",
    "    )"
   ]
  },
  {
   "cell_type": "markdown",
   "metadata": {},
   "source": [
    "Las marcas _identificables_ con el más productos del pais son `le roy` `zuum` `omron` `medimart` y `dalux`"
   ]
  },
  {
   "cell_type": "code",
   "execution_count": 44,
   "metadata": {},
   "outputs": [
    {
     "data": {
      "application/vnd.jupyter.widget-view+json": {
       "model_id": "",
       "version_major": 2,
       "version_minor": 0
      },
      "text/plain": [
       "FloatProgress(value=0.0, bar_style='info', description='Progress:', layout=Layout(height='25px', width='50%'),…"
      ]
     },
     "metadata": {},
     "output_type": "display_data"
    }
   ],
   "source": [
    "# table of counts by state and brand and get top 5 brands per state\n",
    "table_brand_state_count_top5 = (\n",
    "    tbl_medicamentos\n",
    "    .groupBy('state', 'brand')\n",
    "    .count()\n",
    "    .withColumn('rank', F.row_number().over(\n",
    "        Window.partitionBy('state').orderBy(F.desc('count'))\n",
    "        ))\n",
    "    .filter('rank <= 5')\n",
    "    )"
   ]
  },
  {
   "cell_type": "markdown",
   "metadata": {},
   "source": [
    "En una tabla aparte se puede observar las 5 marcas con más observaciones por estado"
   ]
  },
  {
   "cell_type": "markdown",
   "metadata": {},
   "source": [
    "### Q8: ¿Ha dejado de existir alguna marca durante los años que tienes? ¿Cuál? ¿Cuándo desapareció?"
   ]
  },
  {
   "cell_type": "code",
   "execution_count": 47,
   "metadata": {},
   "outputs": [
    {
     "data": {
      "application/vnd.jupyter.widget-view+json": {
       "model_id": "",
       "version_major": 2,
       "version_minor": 0
      },
      "text/plain": [
       "FloatProgress(value=0.0, bar_style='info', description='Progress:', layout=Layout(height='25px', width='50%'),…"
      ]
     },
     "metadata": {},
     "output_type": "display_data"
    },
    {
     "name": "stdout",
     "output_type": "stream",
     "text": [
      "+--------------------+----+-------+-------+-------+-------+-------+-------+------+\n",
      "|               brand|null|   2018|   2019|   2020|   2021|   2022|   2023|  2024|\n",
      "+--------------------+----+-------+-------+-------+-------+-------+-------+------+\n",
      "| 3m nexcare. coldhot|NULL|   NULL|   NULL|    291|    463|    366|    390|    90|\n",
      "|         3m. nexcare|NULL|   NULL|   NULL|   2869|   3697|   3612|   3802|  1355|\n",
      "|        alfa medical|NULL|   NULL|   NULL|   2265|   1695|   1841|   1828|   443|\n",
      "|               aurax|NULL|   NULL|   NULL|     37|     35|   NULL|   NULL|  NULL|\n",
      "|             benesta|NULL|   NULL|   NULL|    378|    771|    811|    543|   110|\n",
      "|        bumy medical|NULL|   NULL|   NULL|    746|   2722|   2219|   2138|   472|\n",
      "|          choisemmed|NULL|   NULL|   NULL|    646|   1809|   1950|   2106|   580|\n",
      "|             citizen|NULL|   NULL|   NULL|   1847|   2872|   2788|   5148|  1587|\n",
      "|              conair|NULL|   NULL|   NULL|   1079|   2244|   3046|   3801|   953|\n",
      "|     cualquier marca|NULL|   NULL|   NULL|   1890|  40568|  63985|  66635| 16686|\n",
      "|            curapack|NULL|   NULL|   NULL|    446|    183|   NULL|   NULL|  NULL|\n",
      "|             curitas|NULL|   NULL|   NULL|   4920|   7373|   7193|   7782|  2057|\n",
      "|               dalux|NULL|   NULL|   NULL|   6730|  20007|  20308|  17466|  4306|\n",
      "|            dr. simi|NULL|   NULL|   NULL|     24|     12|   NULL|   NULL|  NULL|\n",
      "|             duo max|NULL|   NULL|   NULL|     37|     43|   NULL|   NULL|  NULL|\n",
      "|              ensure|NULL|   6961|  10801|   6714|   7487|   7588|   7658|  2049|\n",
      "|escudo antibacterial|NULL|   NULL|   NULL|   4457|   6383|   8447|   9374|  2331|\n",
      "|            farmacom|NULL|   NULL|   NULL|   1589|   2778|   3222|   3280|   864|\n",
      "|              fregon|NULL|   NULL|   NULL|     21|     14|   NULL|   NULL|  NULL|\n",
      "|               hands|NULL|   NULL|   NULL|   1216|    460|    466|    305|    82|\n",
      "|           home care|NULL|   NULL|   NULL|    723|    493|    449|    211|    19|\n",
      "|home care diagnostic|NULL|   NULL|   NULL|    636|   2634|   1186|   1031|   205|\n",
      "|inhala care  o ho...|NULL|   NULL|   NULL|    946|   4280|   7198|   7437|  1774|\n",
      "|              jumper|NULL|   NULL|   NULL|    138|    118|   NULL|   NULL|  NULL|\n",
      "|              le roy|NULL|   NULL|   NULL|  26087|  41956|  44674|  41790| 10298|\n",
      "|            medimart|NULL|   NULL|   NULL|   5458|  15203|  21746|  22424|  5747|\n",
      "|           microlife|NULL|   NULL|   NULL|   1172|   3571|   5710|   6271|  1518|\n",
      "|             nebucor|NULL|   NULL|   NULL|   NULL|   6960|  11289|  10948|  2755|\n",
      "|               omron|NULL|   NULL|   NULL|  10960|  23426|  23017|  18704|  4723|\n",
      "|              protec|NULL|   NULL|   NULL|  11882|  16709|  15774|  14256|  3487|\n",
      "|         quality day|NULL|   NULL|   NULL|   6634|  10905|   9733|   9713|  2449|\n",
      "|                 s/m|   1|3651008|2873068|2395135|2601770|2797165|2813129|702289|\n",
      "|         safety mask|NULL|   NULL|   NULL|   NULL|      1|   NULL|   NULL|  NULL|\n",
      "|           sin marca|NULL|   NULL|   NULL|  40750|  56861|  59341|  63477| 16038|\n",
      "|             soriana|NULL|   NULL|   NULL|   4998|   5547|   5129|   8204|  2155|\n",
      "|           supra med|NULL|   NULL|   NULL|   1296|   2377|   2332|   2456|   603|\n",
      "|            vitascom|NULL|   NULL|   NULL|   5049|   8317|   7559|   7507|  1861|\n",
      "|              xignal|NULL|   NULL|   NULL|    356|   2675|   1738|   1870|   485|\n",
      "|                zuum|NULL|   NULL|   NULL|  17675|  27063|  29650|  25060|  5933|\n",
      "|          zuum. klin|NULL|   NULL|   NULL|   2776|   4922|   5037|   5056|  1184|\n",
      "+--------------------+----+-------+-------+-------+-------+-------+-------+------+"
     ]
    }
   ],
   "source": [
    "# from the column created_at, extract the year\n",
    "tbl_medicamentos = tbl_medicamentos.withColumn('year', F.year('created_at'))\n",
    "\n",
    "# distinct observeations for year and brand (WIP)\n",
    "table_brand_year_count = (\n",
    "    tbl_medicamentos\n",
    "    .groupBy('year', 'brand')\n",
    "    .count()\n",
    "    .orderBy('year', 'count')\n",
    "    .groupBy('brand')\n",
    "    .pivot('year')\n",
    "    .agg(F.first('count'))\n",
    "    .orderBy('brand')\n",
    "    )\n",
    "\n",
    "table_brand_year_count.show(40)"
   ]
  },
  {
   "cell_type": "code",
   "execution_count": 46,
   "metadata": {},
   "outputs": [
    {
     "data": {
      "application/vnd.jupyter.widget-view+json": {
       "model_id": "",
       "version_major": 2,
       "version_minor": 0
      },
      "text/plain": [
       "FloatProgress(value=0.0, bar_style='info', description='Progress:', layout=Layout(height='25px', width='50%'),…"
      ]
     },
     "metadata": {},
     "output_type": "display_data"
    },
    {
     "name": "stdout",
     "output_type": "stream",
     "text": [
      "+-----------+---------+\n",
      "|      brand|max(year)|\n",
      "+-----------+---------+\n",
      "|      aurax|     2021|\n",
      "|     jumper|     2021|\n",
      "|safety mask|     2021|\n",
      "|   dr. simi|     2021|\n",
      "|   curapack|     2021|\n",
      "|     fregon|     2021|\n",
      "|    duo max|     2021|\n",
      "+-----------+---------+"
     ]
    }
   ],
   "source": [
    "(\n",
    "    tbl_medicamentos\n",
    "    .groupBy('year', 'brand')\n",
    "    .count()\n",
    "    .orderBy('year', 'count')\n",
    "    .filter('count is not null')\n",
    "    .groupBy('brand')\n",
    "    .max('year')\n",
    "    .filter('max(year) < 2024')\n",
    "    .show()\n",
    "    \n",
    ")"
   ]
  },
  {
   "cell_type": "markdown",
   "metadata": {},
   "source": [
    "En una tabla aparte se puede observar la tabla con las marcas que han dejado de existir y en el año en la que dejó de existir. En su mayoría las que dejaron de existir fue en 2021"
   ]
  },
  {
   "cell_type": "markdown",
   "metadata": {},
   "source": [
    "### Q9: Genera una gráfica de serie de tiempo por estado para la marca con mayor precio -en todos los años-, donde el eje equis es el año y el eje ye es el precio máximo."
   ]
  },
  {
   "cell_type": "code",
   "execution_count": 48,
   "metadata": {},
   "outputs": [
    {
     "data": {
      "application/vnd.jupyter.widget-view+json": {
       "model_id": "",
       "version_major": 2,
       "version_minor": 0
      },
      "text/plain": [
       "FloatProgress(value=0.0, bar_style='info', description='Progress:', layout=Layout(height='25px', width='50%'),…"
      ]
     },
     "metadata": {},
     "output_type": "display_data"
    },
    {
     "name": "stdout",
     "output_type": "stream",
     "text": [
      "+--------------------+--------------------+\n",
      "|               brand|               state|\n",
      "+--------------------+--------------------+\n",
      "|                 s/m|                NULL|\n",
      "|          choisemmed|      aguascalientes|\n",
      "|home care diagnostic|     baja california|\n",
      "|home care diagnostic| baja california sur|\n",
      "|home care diagnostic|            campeche|\n",
      "|          choisemmed|             chiapas|\n",
      "|          choisemmed|           chihuahua|\n",
      "|          choisemmed|    ciudad de mexico|\n",
      "|          choisemmed|coahuila de zaragoza|\n",
      "|          choisemmed|              colima|\n",
      "|              jumper|             durango|\n",
      "|          choisemmed|    estado de mexico|\n",
      "|          choisemmed|          guanajuato|\n",
      "|home care diagnostic|            guerrero|\n",
      "|home care diagnostic|             hidalgo|\n",
      "|          choisemmed|             jalisco|\n",
      "|home care diagnostic| michoacan de ocampo|\n",
      "|home care diagnostic|             morelos|\n",
      "|               omron|             nayarit|\n",
      "|          choisemmed|          nuevo leon|\n",
      "+--------------------+--------------------+\n",
      "only showing top 20 rows"
     ]
    }
   ],
   "source": [
    "# for each year, get the most expensive brand (WIP)\n",
    "table_state_year_max_price = (\n",
    "    tbl_medicamentos\n",
    "    .groupBy('brand', 'state')\n",
    "    .agg(F.avg('price').alias('avg_price'))\n",
    "    .withColumn('rank', F.row_number().over(\n",
    "        Window.partitionBy('state').orderBy(F.desc('avg_price'))\n",
    "        ))\n",
    "    .filter('rank = 1')\n",
    "    .select('brand','state')\n",
    "    )\n",
    "table_state_year_max_price.show()"
   ]
  },
  {
   "cell_type": "code",
   "execution_count": 49,
   "metadata": {},
   "outputs": [
    {
     "data": {
      "application/vnd.jupyter.widget-view+json": {
       "model_id": "",
       "version_major": 2,
       "version_minor": 0
      },
      "text/plain": [
       "FloatProgress(value=0.0, bar_style='info', description='Progress:', layout=Layout(height='25px', width='50%'),…"
      ]
     },
     "metadata": {},
     "output_type": "display_data"
    },
    {
     "name": "stdout",
     "output_type": "stream",
     "text": [
      "+--------------------+----------------+----+------------------+\n",
      "|               brand|           state|year|         avg_price|\n",
      "+--------------------+----------------+----+------------------+\n",
      "|home care diagnostic|         sinaloa|2021| 955.1999999999999|\n",
      "|              jumper|         durango|2020|            1150.0|\n",
      "|              jumper|         durango|2021|            1150.0|\n",
      "|              jumper|        tlaxcala|2020|          1381.625|\n",
      "|              jumper|    quintana roo|2021|             899.0|\n",
      "|              jumper|    quintana roo|2020|1061.3333333333333|\n",
      "|          choisemmed|ciudad de mexico|2022|1003.8672384937239|\n",
      "|          choisemmed|ciudad de mexico|2024|1002.1666666666666|\n",
      "+--------------------+----------------+----+------------------+\n",
      "only showing top 8 rows"
     ]
    }
   ],
   "source": [
    "tbl_brand_more_expensive_state = (\n",
    "    tbl_medicamentos\n",
    "    .join(table_state_year_max_price, ['brand', 'state'])\n",
    "    .groupBy('brand', 'state', 'year')\n",
    "    .agg(F.avg('price').alias('avg_price'))\n",
    "    )\n",
    "\n",
    "tbl_brand_more_expensive_state.show(8)"
   ]
  },
  {
   "cell_type": "markdown",
   "metadata": {},
   "source": [
    "En un gráfico por aparte se puede ver la tendencia de los precios máximos por estado en cada año"
   ]
  },
  {
   "cell_type": "markdown",
   "metadata": {},
   "source": [
    "## Save"
   ]
  },
  {
   "cell_type": "code",
   "execution_count": 50,
   "metadata": {},
   "outputs": [
    {
     "data": {
      "application/vnd.jupyter.widget-view+json": {
       "model_id": "",
       "version_major": 2,
       "version_minor": 0
      },
      "text/plain": [
       "FloatProgress(value=0.0, bar_style='info', description='Progress:', layout=Layout(height='25px', width='50%'),…"
      ]
     },
     "metadata": {},
     "output_type": "display_data"
    }
   ],
   "source": [
    "# save tables to s3\n",
    "tbl_brand_more_expensive_state.write.mode('overwrite').parquet(f\"{BUCKET}/{FOLDER}/ouputs/brand_state_year_price\")\n",
    "table_brand_count.write.mode('overwrite').parquet(f\"{BUCKET}/{FOLDER}/ouputs/brand_count\")\n",
    "table_price_brand_top5.write.mode('overwrite').parquet(f\"{BUCKET}/{FOLDER}/ouputs/price_brand_top5\")\n",
    "table_brand_year_count.write.mode('overwrite').parquet(f\"{BUCKET}/{FOLDER}/ouputs/brand_state_count\")\n",
    "table_brand_state_count_top5.write.mode('overwrite').parquet(f\"{BUCKET}/{FOLDER}/ouputs/brand_year_count_top5\")\n",
    "table_state_year_max_price.write.mode('overwrite').parquet(f\"{BUCKET}/{FOLDER}/ouputs/state_year_max_price\")\n"
   ]
  }
 ],
 "metadata": {
  "kernelspec": {
   "display_name": "PySpark",
   "language": "python",
   "name": "pysparkkernel"
  },
  "language_info": {
   "codemirror_mode": {
    "name": "python",
    "version": 3
   },
   "file_extension": ".py",
   "mimetype": "text/x-python",
   "name": "pyspark",
   "pygments_lexer": "python3"
  }
 },
 "nbformat": 4,
 "nbformat_minor": 2
}
