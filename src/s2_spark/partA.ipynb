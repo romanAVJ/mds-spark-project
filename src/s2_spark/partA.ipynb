{
 "cells": [
  {
   "cell_type": "markdown",
   "metadata": {},
   "source": [
    "# Partial Exam of Spark\n",
    "\n",
    "@roman\n",
    "\n",
    "20 apr 2024"
   ]
  },
  {
   "cell_type": "markdown",
   "metadata": {},
   "source": [
    "---\n",
    "# Settings"
   ]
  },
  {
   "cell_type": "code",
   "execution_count": 1,
   "metadata": {
    "vscode": {
     "languageId": "python"
    }
   },
   "outputs": [
    {
     "name": "stdout",
     "output_type": "stream",
     "text": [
      "Starting Spark application\n"
     ]
    },
    {
     "data": {
      "text/html": [
       "<table>\n",
       "<tr><th>ID</th><th>YARN Application ID</th><th>Kind</th><th>State</th><th>Spark UI</th><th>Driver log</th><th>User</th><th>Current session?</th></tr><tr><td>3</td><td>application_1713833005447_0004</td><td>pyspark</td><td>idle</td><td><a target=\"_blank\" href=\"http://ip-172-31-2-167.ec2.internal:20888/proxy/application_1713833005447_0004/\">Link</a></td><td><a target=\"_blank\" href=\"http://ip-172-31-8-39.ec2.internal:8042/node/containerlogs/container_1713833005447_0004_01_000001/livy\">Link</a></td><td>None</td><td>✔</td></tr></table>"
      ],
      "text/plain": [
       "<IPython.core.display.HTML object>"
      ]
     },
     "metadata": {},
     "output_type": "display_data"
    },
    {
     "data": {
      "application/vnd.jupyter.widget-view+json": {
       "model_id": "",
       "version_major": 2,
       "version_minor": 0
      },
      "text/plain": [
       "FloatProgress(value=0.0, bar_style='info', description='Progress:', layout=Layout(height='25px', width='50%'),…"
      ]
     },
     "metadata": {},
     "output_type": "display_data"
    },
    {
     "name": "stdout",
     "output_type": "stream",
     "text": [
      "SparkSession available as 'spark'.\n"
     ]
    },
    {
     "data": {
      "application/vnd.jupyter.widget-view+json": {
       "model_id": "",
       "version_major": 2,
       "version_minor": 0
      },
      "text/plain": [
       "FloatProgress(value=0.0, bar_style='info', description='Progress:', layout=Layout(height='25px', width='50%'),…"
      ]
     },
     "metadata": {},
     "output_type": "display_data"
    }
   ],
   "source": [
    "from pyspark.sql import SparkSession\n",
    "import pyspark.sql.functions as F\n",
    "from pyspark.sql.functions import col\n",
    "from pyspark.sql.window import Window"
   ]
  },
  {
   "cell_type": "code",
   "execution_count": 2,
   "metadata": {},
   "outputs": [
    {
     "data": {
      "application/vnd.jupyter.widget-view+json": {
       "model_id": "",
       "version_major": 2,
       "version_minor": 0
      },
      "text/plain": [
       "FloatProgress(value=0.0, bar_style='info', description='Progress:', layout=Layout(height='25px', width='50%'),…"
      ]
     },
     "metadata": {},
     "output_type": "display_data"
    }
   ],
   "source": [
    "# init spark session\n",
    "spark = SparkSession.builder.appName('QPP').getOrCreate()"
   ]
  },
  {
   "cell_type": "code",
   "execution_count": 3,
   "metadata": {},
   "outputs": [
    {
     "data": {
      "application/vnd.jupyter.widget-view+json": {
       "model_id": "",
       "version_major": 2,
       "version_minor": 0
      },
      "text/plain": [
       "FloatProgress(value=0.0, bar_style='info', description='Progress:', layout=Layout(height='25px', width='50%'),…"
      ]
     },
     "metadata": {},
     "output_type": "display_data"
    }
   ],
   "source": [
    "# bucket\n",
    "NAME = 'roman'\n",
    "BUCKET = f\"s3://itam-analytics-{NAME}\"\n",
    "FOLDER = 'qqp'\n",
    "NAME_FILE = 'qqp'\n",
    "\n",
    "# type of catalog\n",
    "CATALOG_TYPE = 'medicamentos'"
   ]
  },
  {
   "cell_type": "markdown",
   "metadata": {},
   "source": [
    "---\n",
    "# Data"
   ]
  },
  {
   "cell_type": "code",
   "execution_count": 4,
   "metadata": {},
   "outputs": [
    {
     "data": {
      "application/vnd.jupyter.widget-view+json": {
       "model_id": "",
       "version_major": 2,
       "version_minor": 0
      },
      "text/plain": [
       "FloatProgress(value=0.0, bar_style='info', description='Progress:', layout=Layout(height='25px', width='50%'),…"
      ]
     },
     "metadata": {},
     "output_type": "display_data"
    }
   ],
   "source": [
    "# read raw data from S3\n",
    "df_qqp = spark.read.csv(f\"{BUCKET}/{FOLDER}/{NAME_FILE}.csv\", header=True, inferSchema=True)"
   ]
  },
  {
   "cell_type": "code",
   "execution_count": 5,
   "metadata": {},
   "outputs": [
    {
     "data": {
      "application/vnd.jupyter.widget-view+json": {
       "model_id": "",
       "version_major": 2,
       "version_minor": 0
      },
      "text/plain": [
       "FloatProgress(value=0.0, bar_style='info', description='Progress:', layout=Layout(height='25px', width='50%'),…"
      ]
     },
     "metadata": {},
     "output_type": "display_data"
    },
    {
     "name": "stdout",
     "output_type": "stream",
     "text": [
      "root\n",
      " |-- product: string (nullable = true)\n",
      " |-- presentation: string (nullable = true)\n",
      " |-- brand: string (nullable = true)\n",
      " |-- category: string (nullable = true)\n",
      " |-- catalog: string (nullable = true)\n",
      " |-- price: double (nullable = true)\n",
      " |-- created_at: date (nullable = true)\n",
      " |-- store: string (nullable = true)\n",
      " |-- type_of_store: string (nullable = true)\n",
      " |-- branch: string (nullable = true)\n",
      " |-- direction: string (nullable = true)\n",
      " |-- state: string (nullable = true)\n",
      " |-- city: string (nullable = true)\n",
      " |-- latitude: string (nullable = true)\n",
      " |-- longitude: string (nullable = true)"
     ]
    }
   ],
   "source": [
    "# look columns\n",
    "df_qqp.printSchema()"
   ]
  },
  {
   "cell_type": "code",
   "execution_count": 6,
   "metadata": {},
   "outputs": [
    {
     "data": {
      "application/vnd.jupyter.widget-view+json": {
       "model_id": "",
       "version_major": 2,
       "version_minor": 0
      },
      "text/plain": [
       "FloatProgress(value=0.0, bar_style='info', description='Progress:', layout=Layout(height='25px', width='50%'),…"
      ]
     },
     "metadata": {},
     "output_type": "display_data"
    }
   ],
   "source": [
    "# save to parquet in s3, partioned by catalog type\n",
    "df_qqp.write.mode('overwrite').partitionBy('catalog').parquet(f\"{BUCKET}/{FOLDER}/{NAME_FILE}\")"
   ]
  },
  {
   "cell_type": "markdown",
   "metadata": {},
   "source": [
    "---\n",
    "# Questions"
   ]
  },
  {
   "cell_type": "markdown",
   "metadata": {},
   "source": [
    "## S1: General"
   ]
  },
  {
   "cell_type": "markdown",
   "metadata": {},
   "source": [
    "### Get Data"
   ]
  },
  {
   "cell_type": "code",
   "execution_count": 4,
   "metadata": {},
   "outputs": [
    {
     "data": {
      "application/vnd.jupyter.widget-view+json": {
       "model_id": "",
       "version_major": 2,
       "version_minor": 0
      },
      "text/plain": [
       "FloatProgress(value=0.0, bar_style='info', description='Progress:', layout=Layout(height='25px', width='50%'),…"
      ]
     },
     "metadata": {},
     "output_type": "display_data"
    },
    {
     "name": "stdout",
     "output_type": "stream",
     "text": [
      "root\n",
      " |-- product: string (nullable = true)\n",
      " |-- presentation: string (nullable = true)\n",
      " |-- brand: string (nullable = true)\n",
      " |-- category: string (nullable = true)\n",
      " |-- price: double (nullable = true)\n",
      " |-- created_at: date (nullable = true)\n",
      " |-- store: string (nullable = true)\n",
      " |-- type_of_store: string (nullable = true)\n",
      " |-- branch: string (nullable = true)\n",
      " |-- direction: string (nullable = true)\n",
      " |-- state: string (nullable = true)\n",
      " |-- city: string (nullable = true)\n",
      " |-- latitude: string (nullable = true)\n",
      " |-- longitude: string (nullable = true)\n",
      " |-- catalog: string (nullable = true)"
     ]
    }
   ],
   "source": [
    "# read parquet from s3\n",
    "df_qqp = spark.read.parquet(f\"{BUCKET}/{FOLDER}/{NAME_FILE}\")\n",
    "\n",
    "# look columns\n",
    "df_qqp.printSchema()"
   ]
  },
  {
   "cell_type": "markdown",
   "metadata": {},
   "source": [
    "### Wrangle"
   ]
  },
  {
   "cell_type": "code",
   "execution_count": 5,
   "metadata": {},
   "outputs": [
    {
     "data": {
      "application/vnd.jupyter.widget-view+json": {
       "model_id": "",
       "version_major": 2,
       "version_minor": 0
      },
      "text/plain": [
       "FloatProgress(value=0.0, bar_style='info', description='Progress:', layout=Layout(height='25px', width='50%'),…"
      ]
     },
     "metadata": {},
     "output_type": "display_data"
    }
   ],
   "source": [
    "# from the column created_at, extract the year\n",
    "df_qqp = df_qqp.withColumn('year', F.year('created_at'))\n",
    "\n",
    "# if catalog is in 's/m', 'sin marca' or 'cualquier marca' then set 's/m'\n",
    "df_qqp = (\n",
    "    df_qqp\n",
    "    .withColumn(\n",
    "        'catalog', F.when(\n",
    "                col('catalog').isin('s/m', 'sin marca', 'cualquier marca'), 's/m'\n",
    "            ).otherwise(\n",
    "                col('catalog')\n",
    "            )\n",
    "        )\n",
    "    )"
   ]
  },
  {
   "cell_type": "code",
   "execution_count": 6,
   "metadata": {},
   "outputs": [
    {
     "data": {
      "application/vnd.jupyter.widget-view+json": {
       "model_id": "",
       "version_major": 2,
       "version_minor": 0
      },
      "text/plain": [
       "FloatProgress(value=0.0, bar_style='info', description='Progress:', layout=Layout(height='25px', width='50%'),…"
      ]
     },
     "metadata": {},
     "output_type": "display_data"
    },
    {
     "name": "stdout",
     "output_type": "stream",
     "text": [
      "+----+--------+\n",
      "|year|   count|\n",
      "+----+--------+\n",
      "|2018|16782901|\n",
      "|2019|13682091|\n",
      "|2020|10780481|\n",
      "|2021|12813994|\n",
      "|2022|14449481|\n",
      "|2023|14782812|\n",
      "|2024| 3624947|\n",
      "+----+--------+"
     ]
    }
   ],
   "source": [
    "# look # of rows  per year\n",
    "df_qqp.groupBy('year').count().show()"
   ]
  },
  {
   "cell_type": "markdown",
   "metadata": {},
   "source": [
    "### Q1: ¿Cuántos catálogos diferentes tenemos?"
   ]
  },
  {
   "cell_type": "code",
   "execution_count": 7,
   "metadata": {},
   "outputs": [
    {
     "data": {
      "application/vnd.jupyter.widget-view+json": {
       "model_id": "",
       "version_major": 2,
       "version_minor": 0
      },
      "text/plain": [
       "FloatProgress(value=0.0, bar_style='info', description='Progress:', layout=Layout(height='25px', width='50%'),…"
      ]
     },
     "metadata": {},
     "output_type": "display_data"
    },
    {
     "name": "stdout",
     "output_type": "stream",
     "text": [
      "+-----------------------+\n",
      "|count(DISTINCT catalog)|\n",
      "+-----------------------+\n",
      "|                     12|\n",
      "+-----------------------+"
     ]
    }
   ],
   "source": [
    "# num different catalogs\n",
    "df_qqp.agg(F.countDistinct('catalog')).show()"
   ]
  },
  {
   "cell_type": "code",
   "execution_count": 8,
   "metadata": {},
   "outputs": [
    {
     "data": {
      "application/vnd.jupyter.widget-view+json": {
       "model_id": "",
       "version_major": 2,
       "version_minor": 0
      },
      "text/plain": [
       "FloatProgress(value=0.0, bar_style='info', description='Progress:', layout=Layout(height='25px', width='50%'),…"
      ]
     },
     "metadata": {},
     "output_type": "display_data"
    },
    {
     "name": "stdout",
     "output_type": "stream",
     "text": [
      "+----+-----------------------+\n",
      "|year|count(DISTINCT catalog)|\n",
      "+----+-----------------------+\n",
      "|2018|                     10|\n",
      "|2019|                     11|\n",
      "|2020|                     10|\n",
      "|2021|                     10|\n",
      "|2022|                     11|\n",
      "|2023|                     11|\n",
      "|2024|                     10|\n",
      "+----+-----------------------+"
     ]
    }
   ],
   "source": [
    "# num different catalogs per year\n",
    "df_qqp.groupBy('year').agg(F.countDistinct('catalog')).show()"
   ]
  },
  {
   "cell_type": "markdown",
   "metadata": {},
   "source": [
    "En total hay 12 catálogos diferentes, sin embargo no todos los catálogos están presentes en todos los años. Por ejemplo, en 2018 solo hay 10 catálogos diferentes."
   ]
  },
  {
   "cell_type": "markdown",
   "metadata": {},
   "source": [
    "### Q2: ¿Cuáles son los 20 catálogos con más observaciones?"
   ]
  },
  {
   "cell_type": "code",
   "execution_count": 9,
   "metadata": {},
   "outputs": [
    {
     "data": {
      "application/vnd.jupyter.widget-view+json": {
       "model_id": "",
       "version_major": 2,
       "version_minor": 0
      },
      "text/plain": [
       "FloatProgress(value=0.0, bar_style='info', description='Progress:', layout=Layout(height='25px', width='50%'),…"
      ]
     },
     "metadata": {},
     "output_type": "display_data"
    },
    {
     "name": "stdout",
     "output_type": "stream",
     "text": [
      "+-------------------+--------+\n",
      "|            catalog|   count|\n",
      "+-------------------+--------+\n",
      "|            basicos|46967421|\n",
      "|       medicamentos|19223453|\n",
      "|  electrodomesticos| 7175538|\n",
      "| frutas y legumbres| 5041732|\n",
      "|   utiles escolares| 2936010|\n",
      "|           mercados| 2238684|\n",
      "|           juguetes| 1432183|\n",
      "|              pacic| 1079162|\n",
      "|pescados y mariscos|  569632|\n",
      "|          navidenos|  236543|\n",
      "|              tenis|   15768|\n",
      "|        aeropuertos|     581|\n",
      "+-------------------+--------+"
     ]
    }
   ],
   "source": [
    "# count num of catalogs\n",
    "(\n",
    "    df_qqp\n",
    "    .groupBy('catalog')\n",
    "    .count()\n",
    "    .orderBy('count', ascending=False)\n",
    "    .show()\n",
    ")"
   ]
  },
  {
   "cell_type": "markdown",
   "metadata": {},
   "source": [
    "Los productos que más se venden son los básicos, seguido de los medicamentos y electrodométsicos"
   ]
  },
  {
   "cell_type": "code",
   "execution_count": 10,
   "metadata": {},
   "outputs": [
    {
     "data": {
      "application/vnd.jupyter.widget-view+json": {
       "model_id": "",
       "version_major": 2,
       "version_minor": 0
      },
      "text/plain": [
       "FloatProgress(value=0.0, bar_style='info', description='Progress:', layout=Layout(height='25px', width='50%'),…"
      ]
     },
     "metadata": {},
     "output_type": "display_data"
    },
    {
     "name": "stdout",
     "output_type": "stream",
     "text": [
      "+----+-------------------+-------+----+\n",
      "|year|            catalog|  count|rank|\n",
      "+----+-------------------+-------+----+\n",
      "|2018|            basicos|8804761|   1|\n",
      "|2018|       medicamentos|3657969|   2|\n",
      "|2018|  electrodomesticos|1735336|   3|\n",
      "|2018| frutas y legumbres| 938616|   4|\n",
      "|2018|   utiles escolares| 665135|   5|\n",
      "|2018|           mercados| 457497|   6|\n",
      "|2018|           juguetes| 370421|   7|\n",
      "|2018|pescados y mariscos|  90040|   8|\n",
      "|2018|          navidenos|  58674|   9|\n",
      "|2018|              tenis|   4452|  10|\n",
      "|2019|            basicos|7398860|   1|\n",
      "|2019|       medicamentos|2887105|   2|\n",
      "|2019|  electrodomesticos|1352068|   3|\n",
      "|2019| frutas y legumbres| 702747|   4|\n",
      "|2019|   utiles escolares| 575317|   5|\n",
      "|2019|           mercados| 381183|   6|\n",
      "|2019|           juguetes| 267730|   7|\n",
      "|2019|pescados y mariscos|  69658|   8|\n",
      "|2019|          navidenos|  42538|   9|\n",
      "|2019|              tenis|   4306|  10|\n",
      "+----+-------------------+-------+----+\n",
      "only showing top 20 rows"
     ]
    }
   ],
   "source": [
    "# table count of each catalog, show only first 20\n",
    "table_count_catalogue = df_qqp.groupBy('year', 'catalog').count().orderBy('year', 'catalog')\n",
    "\n",
    "# get only first 20 per year\n",
    "table_count_catalogue = (\n",
    "    table_count_catalogue\n",
    "    .withColumn('rank', F.row_number().over(\n",
    "        Window.partitionBy('year').orderBy(F.desc('count'))\n",
    "        ))\n",
    "    .filter('rank <= 20')\n",
    "    )\n",
    "table_count_catalogue.show()"
   ]
  },
  {
   "cell_type": "markdown",
   "metadata": {},
   "source": [
    "En una tabla aparte se pueden observar los 20 catalogos con más productos en cada año"
   ]
  },
  {
   "cell_type": "markdown",
   "metadata": {},
   "source": [
    "### Q3: ¿Tenemos datos de todos los estados del país? De no ser así, ¿cuáles faltan?"
   ]
  },
  {
   "cell_type": "code",
   "execution_count": 11,
   "metadata": {},
   "outputs": [
    {
     "data": {
      "application/vnd.jupyter.widget-view+json": {
       "model_id": "",
       "version_major": 2,
       "version_minor": 0
      },
      "text/plain": [
       "FloatProgress(value=0.0, bar_style='info', description='Progress:', layout=Layout(height='25px', width='50%'),…"
      ]
     },
     "metadata": {},
     "output_type": "display_data"
    },
    {
     "name": "stdout",
     "output_type": "stream",
     "text": [
      "Missing: 586"
     ]
    }
   ],
   "source": [
    "# get table count for each year catalog the # of distinct states\n",
    "table_count_num_states_per_year_catalog = (\n",
    "    df_qqp\n",
    "    .groupBy('catalog', 'state', 'year')\n",
    "    .count()\n",
    "    .orderBy('catalog', 'state', 'year')\n",
    "    )\n",
    "\n",
    "# generate table of # of distinct states per year and catalog\n",
    "distinct_states = df_qqp.select('state').distinct()\n",
    "distinct_years = df_qqp.select('year').distinct()\n",
    "distinct_catalogs = df_qqp.select('catalog').distinct()\n",
    "\n",
    "df_cross_join_state_year_catalog = (\n",
    "    distinct_catalogs\n",
    "    .crossJoin(distinct_states)\n",
    "    .crossJoin(distinct_years)\n",
    "    )\n",
    "\n",
    "# get which catalog state and year are missing\n",
    "table_missing = (\n",
    "    df_cross_join_state_year_catalog\n",
    "    .join(table_count_num_states_per_year_catalog, ['catalog', 'state', 'year'], 'left')\n",
    "    .filter('count is null')\n",
    "    )\n",
    "\n",
    "# show missing\n",
    "print(f\"Missing: {table_missing.count()}\")"
   ]
  },
  {
   "cell_type": "markdown",
   "metadata": {},
   "source": [
    "Hay 586 combinaciones entre catálogo, estado y año que no tienen información. En una tabla aparte se pueden visualizar cuales son."
   ]
  },
  {
   "cell_type": "code",
   "execution_count": 12,
   "metadata": {},
   "outputs": [
    {
     "data": {
      "application/vnd.jupyter.widget-view+json": {
       "model_id": "",
       "version_major": 2,
       "version_minor": 0
      },
      "text/plain": [
       "FloatProgress(value=0.0, bar_style='info', description='Progress:', layout=Layout(height='25px', width='50%'),…"
      ]
     },
     "metadata": {},
     "output_type": "display_data"
    },
    {
     "name": "stdout",
     "output_type": "stream",
     "text": [
      "+------------------+-------------------+----+-----+\n",
      "|           catalog|              state|year|count|\n",
      "+------------------+-------------------+----+-----+\n",
      "|             pacic|           guerrero|2021| NULL|\n",
      "|          juguetes|            nayarit|2024| NULL|\n",
      "|             pacic|       quintana roo|2021| NULL|\n",
      "|  utiles escolares|            sinaloa|2023| NULL|\n",
      "|             pacic|          queretaro|2021| NULL|\n",
      "|             tenis|           tlaxcala|2024| NULL|\n",
      "|           basicos|            nayarit|2024| NULL|\n",
      "|             pacic|            durango|2019| NULL|\n",
      "|  utiles escolares|           guerrero|2023| NULL|\n",
      "|       aeropuertos|          queretaro|2023| NULL|\n",
      "|frutas y legumbres|            nayarit|2020| NULL|\n",
      "|  utiles escolares|             sonora|2020| NULL|\n",
      "|       aeropuertos|baja california sur|2019| NULL|\n",
      "|             pacic|          chihuahua|2021| NULL|\n",
      "|             tenis|    baja california|2024| NULL|\n",
      "|             tenis|            yucatan|2024| NULL|\n",
      "|       aeropuertos|   estado de mexico|2021| NULL|\n",
      "|  utiles escolares|             colima|2024| NULL|\n",
      "|             pacic|   ciudad de mexico|2021| NULL|\n",
      "|             pacic|             colima|2022| NULL|\n",
      "+------------------+-------------------+----+-----+\n",
      "only showing top 20 rows"
     ]
    }
   ],
   "source": [
    "# look\n",
    "table_missing.show()"
   ]
  },
  {
   "cell_type": "markdown",
   "metadata": {},
   "source": [
    "En una tabla aparte se puede observar la tabla con los catalogos vacios por año y estado"
   ]
  },
  {
   "cell_type": "code",
   "execution_count": 13,
   "metadata": {},
   "outputs": [
    {
     "data": {
      "application/vnd.jupyter.widget-view+json": {
       "model_id": "",
       "version_major": 2,
       "version_minor": 0
      },
      "text/plain": [
       "FloatProgress(value=0.0, bar_style='info', description='Progress:', layout=Layout(height='25px', width='50%'),…"
      ]
     },
     "metadata": {},
     "output_type": "display_data"
    },
    {
     "name": "stdout",
     "output_type": "stream",
     "text": [
      "+--------------------+----+----+----+----+----+----+----+\n",
      "|               state|2018|2019|2020|2021|2022|2023|2024|\n",
      "+--------------------+----+----+----+----+----+----+----+\n",
      "|      aguascalientes|   1|   1|   1|   1|   1|   1|   1|\n",
      "|     baja california|   1|   1|   1|   1|   1|   1|   1|\n",
      "| baja california sur|   1|   1|   1|   1|   1|   1|   1|\n",
      "|            campeche|   1|   1|   1|   1|   1|   1|   1|\n",
      "|             chiapas|   1|   1|   1|   1|   1|   1|   1|\n",
      "|           chihuahua|   1|   1|   1|   1|   1|   1|   1|\n",
      "|    ciudad de mexico|   1|   1|   1|   1|   1|   1|   1|\n",
      "|coahuila de zaragoza|   1|   1|   1|   1|   1|   1|   1|\n",
      "|              colima|   1|   1|   1|NULL|NULL|NULL|NULL|\n",
      "|             durango|   1|   1|   1|   1|   1|   1|   1|\n",
      "|    estado de mexico|   1|   1|   1|   1|   1|   1|   1|\n",
      "|          guanajuato|   1|   1|   1|   1|   1|   1|   1|\n",
      "|            guerrero|   1|   1|   1|   1|   1|   1|   1|\n",
      "|             hidalgo|   1|   1|   1|   1|   1|   1|   1|\n",
      "|             jalisco|   1|   1|   1|   1|   1|   1|   1|\n",
      "| michoacan de ocampo|   1|   1|   1|   1|   1|   1|   1|\n",
      "|             morelos|   1|   1|   1|   1|   1|   1|   1|\n",
      "|             nayarit|   1|   1|   1|NULL|NULL|NULL|NULL|\n",
      "|          nuevo leon|   1|   1|   1|   1|   1|   1|   1|\n",
      "|              oaxaca|   1|   1|   1|   1|   1|   1|   1|\n",
      "|              puebla|   1|   1|   1|   1|   1|   1|   1|\n",
      "|           queretaro|   1|   1|   1|   1|   1|   1|   1|\n",
      "|        quintana roo|   1|   1|   1|   1|   1|   1|   1|\n",
      "|     san luis potosi|   1|   1|   1|   1|   1|   1|   1|\n",
      "|             sinaloa|   1|   1|   1|   1|   1|   1|   1|\n",
      "|              sonora|   1|   1|   1|   1|   1|   1|   1|\n",
      "|             tabasco|   1|   1|   1|   1|   1|   1|   1|\n",
      "|          tamaulipas|   1|   1|   1|   1|   1|   1|   1|\n",
      "|            tlaxcala|   1|   1|   1|   1|   1|   1|   1|\n",
      "|            veracruz|   1|   1|   1|   1|   1|   1|   1|\n",
      "|             yucatan|   1|   1|   1|   1|   1|   1|   1|\n",
      "|           zacatecas|   1|   1|   1|   1|   1|   1|   1|\n",
      "+--------------------+----+----+----+----+----+----+----+"
     ]
    }
   ],
   "source": [
    "# count the # of rows per state and year\n",
    "table_count_states = df_qqp.groupBy('state', 'year').count().orderBy('state', 'year')\n",
    "\n",
    "# pivot the table to have years as columns\n",
    "(\n",
    "    table_count_states\n",
    "    .groupBy('state')\n",
    "    .pivot('year')\n",
    "    .agg(F.coalesce(F.lit(1), F.lit(0)))\n",
    "    .orderBy('state')\n",
    "    .show(32)\n",
    "    )"
   ]
  },
  {
   "cell_type": "markdown",
   "metadata": {},
   "source": [
    "Los estados que no tienen información de ciertos catálogos son los estados de Colima y Nayarit a partir del 2020"
   ]
  },
  {
   "cell_type": "markdown",
   "metadata": {},
   "source": [
    "### Q4: ¿Cuántas observaciones tenemos por estado?\n"
   ]
  },
  {
   "cell_type": "code",
   "execution_count": 14,
   "metadata": {},
   "outputs": [
    {
     "data": {
      "application/vnd.jupyter.widget-view+json": {
       "model_id": "",
       "version_major": 2,
       "version_minor": 0
      },
      "text/plain": [
       "FloatProgress(value=0.0, bar_style='info', description='Progress:', layout=Layout(height='25px', width='50%'),…"
      ]
     },
     "metadata": {},
     "output_type": "display_data"
    },
    {
     "name": "stdout",
     "output_type": "stream",
     "text": [
      "+--------------------+--------+\n",
      "|               state|   count|\n",
      "+--------------------+--------+\n",
      "|      aguascalientes| 1668545|\n",
      "|     baja california| 1513987|\n",
      "| baja california sur| 1477127|\n",
      "|            campeche| 1765074|\n",
      "|             chiapas| 1163732|\n",
      "|           chihuahua| 1798478|\n",
      "|    ciudad de mexico|17968798|\n",
      "|coahuila de zaragoza| 1616519|\n",
      "|              colima|  560520|\n",
      "|             durango| 1616227|\n",
      "|    estado de mexico|12537548|\n",
      "|          guanajuato| 3330005|\n",
      "|            guerrero|  981815|\n",
      "|             hidalgo|  868532|\n",
      "|             jalisco| 4182990|\n",
      "| michoacan de ocampo| 1538864|\n",
      "|             morelos| 1026711|\n",
      "|             nayarit|  266068|\n",
      "|          nuevo leon| 3358320|\n",
      "|              oaxaca| 1536513|\n",
      "|              puebla| 2345346|\n",
      "|           queretaro| 2534860|\n",
      "|        quintana roo| 2821004|\n",
      "|     san luis potosi| 1718257|\n",
      "|             sinaloa| 1281809|\n",
      "|              sonora| 1887619|\n",
      "|             tabasco| 2471506|\n",
      "|          tamaulipas| 1896217|\n",
      "|            tlaxcala| 1810148|\n",
      "|            veracruz| 2661838|\n",
      "|             yucatan| 2331663|\n",
      "|           zacatecas| 2380067|\n",
      "+--------------------+--------+"
     ]
    }
   ],
   "source": [
    "# count the # of rows per state\n",
    "df_qqp.groupBy('state').count().orderBy('state').show(32)"
   ]
  },
  {
   "cell_type": "markdown",
   "metadata": {},
   "source": [
    "La tabla superior muestra los conteos de observaciones por estado. La `ciudad de méxico` es la que predomina"
   ]
  },
  {
   "cell_type": "code",
   "execution_count": 15,
   "metadata": {},
   "outputs": [
    {
     "data": {
      "application/vnd.jupyter.widget-view+json": {
       "model_id": "",
       "version_major": 2,
       "version_minor": 0
      },
      "text/plain": [
       "FloatProgress(value=0.0, bar_style='info', description='Progress:', layout=Layout(height='25px', width='50%'),…"
      ]
     },
     "metadata": {},
     "output_type": "display_data"
    },
    {
     "name": "stdout",
     "output_type": "stream",
     "text": [
      "+--------------+------------------+----+------+\n",
      "|         state|           catalog|year| count|\n",
      "+--------------+------------------+----+------+\n",
      "|aguascalientes|       aeropuertos|2019|   121|\n",
      "|aguascalientes|           basicos|2018|106821|\n",
      "|aguascalientes|           basicos|2019|137394|\n",
      "|aguascalientes|           basicos|2020|105656|\n",
      "|aguascalientes|           basicos|2021|112011|\n",
      "|aguascalientes|           basicos|2022|136357|\n",
      "|aguascalientes|           basicos|2023|137803|\n",
      "|aguascalientes|           basicos|2024| 37042|\n",
      "|aguascalientes| electrodomesticos|2018| 26044|\n",
      "|aguascalientes| electrodomesticos|2019| 37355|\n",
      "|aguascalientes| electrodomesticos|2020| 18383|\n",
      "|aguascalientes| electrodomesticos|2021| 26257|\n",
      "|aguascalientes| electrodomesticos|2022| 31491|\n",
      "|aguascalientes| electrodomesticos|2023| 36656|\n",
      "|aguascalientes| electrodomesticos|2024|  8228|\n",
      "|aguascalientes|frutas y legumbres|2018| 12824|\n",
      "|aguascalientes|frutas y legumbres|2019| 14427|\n",
      "|aguascalientes|frutas y legumbres|2020| 13024|\n",
      "|aguascalientes|frutas y legumbres|2021| 12997|\n",
      "|aguascalientes|frutas y legumbres|2022| 18514|\n",
      "+--------------+------------------+----+------+\n",
      "only showing top 20 rows"
     ]
    }
   ],
   "source": [
    "# count the number of different catalogs (WIP)\n",
    "table_qqp_state_catalog_year = (\n",
    "    df_qqp\n",
    "    .groupBy('state', 'catalog', 'year')\n",
    "    .count()\n",
    "    .orderBy('state', 'catalog', 'year')\n",
    "    )\n",
    "table_qqp_state_catalog_year.show()"
   ]
  },
  {
   "cell_type": "markdown",
   "metadata": {},
   "source": [
    "En una tabla por aparte se pueden observar el numero de observaciones por estado, catálogo y año"
   ]
  },
  {
   "cell_type": "markdown",
   "metadata": {},
   "source": [
    "### Q5: De cada estado obten: el número de catalogos diferentes por año, ¿ha aumentado el número de catálogos con el tiempo?"
   ]
  },
  {
   "cell_type": "code",
   "execution_count": 16,
   "metadata": {},
   "outputs": [
    {
     "data": {
      "application/vnd.jupyter.widget-view+json": {
       "model_id": "",
       "version_major": 2,
       "version_minor": 0
      },
      "text/plain": [
       "FloatProgress(value=0.0, bar_style='info', description='Progress:', layout=Layout(height='25px', width='50%'),…"
      ]
     },
     "metadata": {},
     "output_type": "display_data"
    },
    {
     "name": "stdout",
     "output_type": "stream",
     "text": [
      "+--------------------+----+----+----+----+----+----+----+\n",
      "|               state|2018|2019|2020|2021|2022|2023|2024|\n",
      "+--------------------+----+----+----+----+----+----+----+\n",
      "|      aguascalientes|   9|  11|   9|  10|  11|  11|   9|\n",
      "|     baja california|  10|  10|   9|   9|  11|  11|  10|\n",
      "| baja california sur|   9|  10|   9|  10|  11|  11|  10|\n",
      "|            campeche|   9|   9|   9|  10|  11|  11|   9|\n",
      "|             chiapas|  10|  10|   9|   9|  10|  10|   8|\n",
      "|           chihuahua|  10|  11|   5|  10|  11|  11|  10|\n",
      "|    ciudad de mexico|  10|  10|   9|  10|  11|  11|  10|\n",
      "|coahuila de zaragoza|  10|   9|   9|  10|  11|  11|  10|\n",
      "|              colima|  10|  10|   4|NULL|NULL|NULL|NULL|\n",
      "|             durango|  10|  10|   9|  10|  11|  11|   9|\n",
      "|    estado de mexico|  10|  10|   9|  10|  11|  11|  10|\n",
      "|          guanajuato|  10|  10|   9|  10|  11|  11|   9|\n",
      "|            guerrero|  10|  10|   8|   8|   8|   7|   9|\n",
      "|             hidalgo|  10|  11|   9|   9|  10|  11|   8|\n",
      "|             jalisco|  10|  10|   9|  10|  11|  11|  10|\n",
      "| michoacan de ocampo|   9|   9|   9|  10|  11|  11|  10|\n",
      "|             morelos|   9|   9|   5|  10|  11|  11|  10|\n",
      "|             nayarit|  10|   8|   3|NULL|NULL|NULL|NULL|\n",
      "|          nuevo leon|  10|  10|   9|  10|  11|  11|  10|\n",
      "|              oaxaca|  10|   9|   9|  10|  10|  10|   9|\n",
      "|              puebla|   9|   9|   8|   9|  10|  10|   9|\n",
      "|           queretaro|   9|  10|   9|  10|  11|  11|  10|\n",
      "|        quintana roo|  10|  10|   9|  10|  11|  10|   9|\n",
      "|     san luis potosi|  10|  11|   9|  10|  11|  11|   9|\n",
      "|             sinaloa|  10|   9|   9|   9|  10|   6|   5|\n",
      "|              sonora|  10|  10|   6|  10|  11|  11|   9|\n",
      "|             tabasco|  10|  10|   9|   9|  11|  11|   9|\n",
      "|          tamaulipas|  10|  10|   9|  10|  10|  11|  10|\n",
      "|            tlaxcala|  10|  10|   9|  10|  11|  11|   9|\n",
      "|            veracruz|  10|  11|   9|  10|  11|  10|  10|\n",
      "|             yucatan|  10|  10|  10|  10|  11|  11|  10|\n",
      "|           zacatecas|  10|  10|   9|  10|  11|  11|  10|\n",
      "+--------------------+----+----+----+----+----+----+----+"
     ]
    }
   ],
   "source": [
    "# count the number of different catalogs per year\n",
    "table_qqp_year_state_diff_catalog = (\n",
    "    df_qqp\n",
    "    .groupBy('state', 'year')\n",
    "    .agg(F.countDistinct('catalog').alias('count_catalogs'))\n",
    "    .orderBy('state', 'year')\n",
    "    .groupBy('state')\n",
    "    .pivot('year')\n",
    "    .agg(F.first('count_catalogs'))\n",
    "    .orderBy('state')\n",
    "    )\n",
    "table_qqp_year_state_diff_catalog.show(32)"
   ]
  },
  {
   "cell_type": "markdown",
   "metadata": {},
   "source": [
    "Falta observar tendencias en el tiempo para afirmar si hay un crecimiento en el número de catálogos por estado, sin embargo se muestra como para Colima y Nayarit bajó"
   ]
  },
  {
   "cell_type": "markdown",
   "metadata": {},
   "source": [
    "### Save tables"
   ]
  },
  {
   "cell_type": "code",
   "execution_count": 17,
   "metadata": {},
   "outputs": [
    {
     "data": {
      "application/vnd.jupyter.widget-view+json": {
       "model_id": "",
       "version_major": 2,
       "version_minor": 0
      },
      "text/plain": [
       "FloatProgress(value=0.0, bar_style='info', description='Progress:', layout=Layout(height='25px', width='50%'),…"
      ]
     },
     "metadata": {},
     "output_type": "display_data"
    }
   ],
   "source": [
    "# save tables to s3\n",
    "table_count_catalogue.write.mode('overwrite').parquet(f\"{BUCKET}/{FOLDER}/ouputs/all/table_count_catalogue\")\n",
    "table_missing.write.mode('overwrite').parquet(f\"{BUCKET}/{FOLDER}/ouputs/all/table_missing\")\n",
    "table_qqp_state_catalog_year.write.mode('overwrite').parquet(f\"{BUCKET}/{FOLDER}/ouputs/all/table_qqp_state_catalog_year\")\n",
    "table_qqp_year_state_diff_catalog.write.mode('overwrite').parquet(f\"{BUCKET}/{FOLDER}/ouputs/all/table_qqp_year_state_diff_catalog\")"
   ]
  },
  {
   "cell_type": "code",
   "execution_count": 18,
   "metadata": {},
   "outputs": [
    {
     "data": {
      "application/vnd.jupyter.widget-view+json": {
       "model_id": "",
       "version_major": 2,
       "version_minor": 0
      },
      "text/plain": [
       "FloatProgress(value=0.0, bar_style='info', description='Progress:', layout=Layout(height='25px', width='50%'),…"
      ]
     },
     "metadata": {},
     "output_type": "display_data"
    },
    {
     "name": "stdout",
     "output_type": "stream",
     "text": [
      "root\n",
      " |-- product: string (nullable = true)\n",
      " |-- presentation: string (nullable = true)\n",
      " |-- brand: string (nullable = true)\n",
      " |-- category: string (nullable = true)\n",
      " |-- price: double (nullable = true)\n",
      " |-- created_at: date (nullable = true)\n",
      " |-- store: string (nullable = true)\n",
      " |-- type_of_store: string (nullable = true)\n",
      " |-- branch: string (nullable = true)\n",
      " |-- direction: string (nullable = true)\n",
      " |-- state: string (nullable = true)\n",
      " |-- city: string (nullable = true)\n",
      " |-- latitude: string (nullable = true)\n",
      " |-- longitude: string (nullable = true)\n",
      " |-- catalog: string (nullable = true)\n",
      " |-- year: integer (nullable = true)"
     ]
    }
   ],
   "source": [
    "# look schema\n",
    "df_qqp.printSchema()"
   ]
  },
  {
   "cell_type": "code",
   "execution_count": null,
   "metadata": {},
   "outputs": [],
   "source": [
    "# save transformed data to s3\n",
    "df_qqp.write.mode('overwrite').partitionBy('catalog').parquet(f\"{BUCKET}/{FOLDER}/{NAME_FILE}_transformed\")\n",
    "df_qqp.write.mode('overwrite').partitionBy('catalog').parquet(f\"{BUCKET}/{FOLDER}/{NAME_FILE}_transformed_unpartitioned\")"
   ]
  },
  {
   "cell_type": "markdown",
   "metadata": {},
   "source": [
    "## S2: Particular"
   ]
  },
  {
   "cell_type": "markdown",
   "metadata": {},
   "source": [
    "### Get Data"
   ]
  },
  {
   "cell_type": "code",
   "execution_count": 19,
   "metadata": {},
   "outputs": [
    {
     "data": {
      "application/vnd.jupyter.widget-view+json": {
       "model_id": "",
       "version_major": 2,
       "version_minor": 0
      },
      "text/plain": [
       "FloatProgress(value=0.0, bar_style='info', description='Progress:', layout=Layout(height='25px', width='50%'),…"
      ]
     },
     "metadata": {},
     "output_type": "display_data"
    },
    {
     "name": "stdout",
     "output_type": "stream",
     "text": [
      "19223453"
     ]
    }
   ],
   "source": [
    "# filter by catalog\n",
    "df_qqp_our_category = df_qqp.filter(col('catalog') == CATALOG_TYPE)\n",
    "\n",
    "# look # of rows\n",
    "df_qqp_our_category.count()"
   ]
  },
  {
   "cell_type": "markdown",
   "metadata": {},
   "source": [
    "### Q1: ¿Cuańtas marcas diferentes tiene tu categoría?"
   ]
  },
  {
   "cell_type": "code",
   "execution_count": 20,
   "metadata": {},
   "outputs": [
    {
     "data": {
      "application/vnd.jupyter.widget-view+json": {
       "model_id": "",
       "version_major": 2,
       "version_minor": 0
      },
      "text/plain": [
       "FloatProgress(value=0.0, bar_style='info', description='Progress:', layout=Layout(height='25px', width='50%'),…"
      ]
     },
     "metadata": {},
     "output_type": "display_data"
    },
    {
     "name": "stdout",
     "output_type": "stream",
     "text": [
      "40"
     ]
    }
   ],
   "source": [
    "# how many different brands are there?\n",
    "df_qqp_our_category.select('brand').distinct().count()"
   ]
  },
  {
   "cell_type": "markdown",
   "metadata": {},
   "source": [
    "### Q2: ¿Cuál es la marca con mayor precio? ¿En qué estado?"
   ]
  },
  {
   "cell_type": "code",
   "execution_count": 21,
   "metadata": {},
   "outputs": [
    {
     "data": {
      "application/vnd.jupyter.widget-view+json": {
       "model_id": "",
       "version_major": 2,
       "version_minor": 0
      },
      "text/plain": [
       "FloatProgress(value=0.0, bar_style='info', description='Progress:', layout=Layout(height='25px', width='50%'),…"
      ]
     },
     "metadata": {},
     "output_type": "display_data"
    }
   ],
   "source": [
    "# get avg by brand and state\n",
    "df_qqp_our_category_avg_price_per_brand_state = (\n",
    "    df_qqp_our_category\n",
    "    .groupBy('brand', 'state')\n",
    "    .agg(F.avg('price').alias('avg_price'))\n",
    "    )"
   ]
  },
  {
   "cell_type": "code",
   "execution_count": 22,
   "metadata": {},
   "outputs": [
    {
     "data": {
      "application/vnd.jupyter.widget-view+json": {
       "model_id": "",
       "version_major": 2,
       "version_minor": 0
      },
      "text/plain": [
       "FloatProgress(value=0.0, bar_style='info', description='Progress:', layout=Layout(height='25px', width='50%'),…"
      ]
     },
     "metadata": {},
     "output_type": "display_data"
    },
    {
     "name": "stdout",
     "output_type": "stream",
     "text": [
      "+------+--------+---------+\n",
      "| brand|   state|avg_price|\n",
      "+------+--------+---------+\n",
      "|jumper|tlaxcala| 1381.625|\n",
      "+------+--------+---------+\n",
      "only showing top 1 row"
     ]
    }
   ],
   "source": [
    "# which brand has the highest price and in which state?\n",
    "(\n",
    "    df_qqp_our_category_avg_price_per_brand_state\n",
    "    .orderBy(col('avg_price').desc())\n",
    "    .select('brand', 'state', 'avg_price').show(1)\n",
    "    )"
   ]
  },
  {
   "cell_type": "markdown",
   "metadata": {},
   "source": [
    "Hay un producto `sin marca` en el estado de `Chihuaha` con un precio de $5,275; el cual sería el máximo"
   ]
  },
  {
   "cell_type": "code",
   "execution_count": 33,
   "metadata": {},
   "outputs": [
    {
     "data": {
      "application/vnd.jupyter.widget-view+json": {
       "model_id": "",
       "version_major": 2,
       "version_minor": 0
      },
      "text/plain": [
       "FloatProgress(value=0.0, bar_style='info', description='Progress:', layout=Layout(height='25px', width='50%'),…"
      ]
     },
     "metadata": {},
     "output_type": "display_data"
    },
    {
     "name": "stdout",
     "output_type": "stream",
     "text": [
      "+------+--------+---------+\n",
      "| brand|   state|avg_price|\n",
      "+------+--------+---------+\n",
      "|jumper|tlaxcala| 1381.625|\n",
      "+------+--------+---------+\n",
      "only showing top 1 row"
     ]
    }
   ],
   "source": [
    "# which brand has the highest price and in which state?\n",
    "(\n",
    "    df_qqp_our_category_avg_price_per_brand_state\n",
    "    .filter(~col('brand').isin('s/m'))\n",
    "    .orderBy(col('avg_price').desc())\n",
    "    .select('brand', 'state', 'avg_price').show(1)\n",
    "    )"
   ]
  },
  {
   "cell_type": "markdown",
   "metadata": {},
   "source": [
    "El producto `omron` es el producto _identificable_ más caro de QQP, procedente del estadio de `Baja California Sur`"
   ]
  },
  {
   "cell_type": "markdown",
   "metadata": {},
   "source": [
    "### Q3: ¿Cuál es la marca con menor precio en CDMX? (en aquel entonces Distrito Federal)\n"
   ]
  },
  {
   "cell_type": "code",
   "execution_count": 24,
   "metadata": {},
   "outputs": [
    {
     "data": {
      "application/vnd.jupyter.widget-view+json": {
       "model_id": "",
       "version_major": 2,
       "version_minor": 0
      },
      "text/plain": [
       "FloatProgress(value=0.0, bar_style='info', description='Progress:', layout=Layout(height='25px', width='50%'),…"
      ]
     },
     "metadata": {},
     "output_type": "display_data"
    },
    {
     "name": "stdout",
     "output_type": "stream",
     "text": [
      "+----------+----------------+------------------+\n",
      "|     brand|           state|         avg_price|\n",
      "+----------+----------------+------------------+\n",
      "|choisemmed|ciudad de mexico|1001.5555320366128|\n",
      "+----------+----------------+------------------+\n",
      "only showing top 1 row"
     ]
    }
   ],
   "source": [
    "# idem but in CDMX\n",
    "(\n",
    "    df_qqp_our_category_avg_price_per_brand_state\n",
    "    .filter(col('state') == 'ciudad de mexico')\n",
    "    .orderBy(col('avg_price').desc())\n",
    "    .select('brand', 'state', 'avg_price').show(1)\n",
    "    )"
   ]
  },
  {
   "cell_type": "markdown",
   "metadata": {},
   "source": [
    "El producuto más caro es de $4521, `sin marca`"
   ]
  },
  {
   "cell_type": "code",
   "execution_count": 36,
   "metadata": {},
   "outputs": [
    {
     "data": {
      "application/vnd.jupyter.widget-view+json": {
       "model_id": "",
       "version_major": 2,
       "version_minor": 0
      },
      "text/plain": [
       "FloatProgress(value=0.0, bar_style='info', description='Progress:', layout=Layout(height='25px', width='50%'),…"
      ]
     },
     "metadata": {},
     "output_type": "display_data"
    },
    {
     "name": "stdout",
     "output_type": "stream",
     "text": [
      "+----------+------------------+\n",
      "|     brand|         avg_price|\n",
      "+----------+------------------+\n",
      "|choisemmed|1001.5555320366128|\n",
      "+----------+------------------+\n",
      "only showing top 1 row"
     ]
    }
   ],
   "source": [
    "# idem CDMX without s/m\n",
    "(\n",
    "    df_qqp_our_category\n",
    "    .filter(~col('brand').isin('s/m'))\n",
    "    .filter(col('state') == 'ciudad de mexico')\n",
    "    .groupBy('brand')\n",
    "    .agg(F.avg('price').alias('avg_price'))\n",
    "    .orderBy(col('avg_price').desc())\n",
    "    .select('brand', 'avg_price')\n",
    "    .show(1)\n",
    "    )"
   ]
  },
  {
   "cell_type": "markdown",
   "metadata": {},
   "source": [
    "El producto `omron` es el producto _identificable_ más caro de la CDMX"
   ]
  },
  {
   "cell_type": "markdown",
   "metadata": {},
   "source": [
    "### Q4: ¿Cuál es la marca con mayores observaciones?"
   ]
  },
  {
   "cell_type": "code",
   "execution_count": 26,
   "metadata": {},
   "outputs": [
    {
     "data": {
      "application/vnd.jupyter.widget-view+json": {
       "model_id": "",
       "version_major": 2,
       "version_minor": 0
      },
      "text/plain": [
       "FloatProgress(value=0.0, bar_style='info', description='Progress:', layout=Layout(height='25px', width='50%'),…"
      ]
     },
     "metadata": {},
     "output_type": "display_data"
    },
    {
     "name": "stdout",
     "output_type": "stream",
     "text": [
      "+--------------------+--------+\n",
      "|               brand|   count|\n",
      "+--------------------+--------+\n",
      "|                 s/m|17840684|\n",
      "|           sin marca|  236545|\n",
      "|     cualquier marca|  189801|\n",
      "|              le roy|  164858|\n",
      "|                zuum|  105398|\n",
      "|               omron|   80857|\n",
      "|            medimart|   70602|\n",
      "|               dalux|   68836|\n",
      "|              protec|   62126|\n",
      "|              ensure|   49280|\n",
      "|         quality day|   39434|\n",
      "|             nebucor|   31963|\n",
      "|escudo antibacterial|   31002|\n",
      "|            vitascom|   30293|\n",
      "|             curitas|   29333|\n",
      "|             soriana|   26033|\n",
      "|inhala care  o ho...|   21639|\n",
      "|          zuum. klin|   18977|\n",
      "|           microlife|   18252|\n",
      "|         3m. nexcare|   15338|\n",
      "+--------------------+--------+\n",
      "only showing top 20 rows"
     ]
    }
   ],
   "source": [
    "# which brand has more observations?\n",
    "table_brand_count = df_qqp_our_category.groupBy('brand').count().orderBy('count', ascending=False)\n",
    "table_brand_count.show()"
   ]
  },
  {
   "cell_type": "markdown",
   "metadata": {},
   "source": [
    "La marca _identificable_ con más observaciones es la marca `le roy`"
   ]
  },
  {
   "cell_type": "markdown",
   "metadata": {},
   "source": [
    "### Q5: ¿Cuáles son el top 5 de marcas con mayor precio en cada estado? ¿Son diferentes?"
   ]
  },
  {
   "cell_type": "code",
   "execution_count": 27,
   "metadata": {},
   "outputs": [
    {
     "data": {
      "application/vnd.jupyter.widget-view+json": {
       "model_id": "",
       "version_major": 2,
       "version_minor": 0
      },
      "text/plain": [
       "FloatProgress(value=0.0, bar_style='info', description='Progress:', layout=Layout(height='25px', width='50%'),…"
      ]
     },
     "metadata": {},
     "output_type": "display_data"
    },
    {
     "name": "stdout",
     "output_type": "stream",
     "text": [
      "+-------------------+-------+----------+-------+-------+------+---------+--------------------+------------------------+------+---------+-------+-----+------+----+------+\n",
      "|              state|benesta|choisemmed|citizen|duo max|ensure|home care|home care diagnostic|inhala care  o home care|jumper|microlife|nebucor|omron|protec| s/m|xignal|\n",
      "+-------------------+-------+----------+-------+-------+------+---------+--------------------+------------------------+------+---------+-------+-----+------+----+------+\n",
      "|     aguascalientes|   NULL|         1|   NULL|   NULL|  NULL|     NULL|                   2|                    NULL|  NULL|        5|      3|    4|  NULL|NULL|  NULL|\n",
      "|    baja california|   NULL|         2|   NULL|   NULL|  NULL|     NULL|                   1|                    NULL|     5|     NULL|      4| NULL|  NULL|NULL|     3|\n",
      "|baja california sur|   NULL|         2|   NULL|   NULL|  NULL|     NULL|                   1|                    NULL|     4|     NULL|      5|    3|  NULL|NULL|  NULL|\n",
      "|           campeche|   NULL|         2|   NULL|   NULL|  NULL|     NULL|                   1|                    NULL|  NULL|        5|      3|    4|  NULL|NULL|  NULL|\n",
      "|            chiapas|   NULL|         1|   NULL|   NULL|  NULL|        5|                   3|                    NULL|     2|     NULL|      4| NULL|  NULL|NULL|  NULL|\n",
      "+-------------------+-------+----------+-------+-------+------+---------+--------------------+------------------------+------+---------+-------+-----+------+----+------+\n",
      "only showing top 5 rows"
     ]
    }
   ],
   "source": [
    "# for each state, get the top 5 most expensive brands (WIP)\n",
    "table_price_brand_top5 = (\n",
    "    df_qqp_our_category_avg_price_per_brand_state\n",
    "    .orderBy(col('avg_price').desc())\n",
    "    .withColumn('rank', F.row_number().over(\n",
    "        Window.partitionBy('state').orderBy(F.desc('avg_price'))\n",
    "        ))\n",
    "    .filter('rank <= 5')\n",
    "    # pivot brand and set values the rank\n",
    "    .groupBy('state')\n",
    "    .pivot('brand')\n",
    "    .agg(F.first('rank'))\n",
    "    .orderBy('state')\n",
    "    )\n",
    "table_price_brand_top5.show(5)"
   ]
  },
  {
   "cell_type": "markdown",
   "metadata": {},
   "source": [
    "Las top 5 marcas con mayo precio se pueden encontrar en una tabla aparte"
   ]
  },
  {
   "cell_type": "markdown",
   "metadata": {},
   "source": [
    "### Q6: ¿Cuáles son el top 5 de marcas con menor precio en CDMX? (en aquel entonces Distrito Federal)"
   ]
  },
  {
   "cell_type": "code",
   "execution_count": 28,
   "metadata": {},
   "outputs": [
    {
     "data": {
      "application/vnd.jupyter.widget-view+json": {
       "model_id": "",
       "version_major": 2,
       "version_minor": 0
      },
      "text/plain": [
       "FloatProgress(value=0.0, bar_style='info', description='Progress:', layout=Layout(height='25px', width='50%'),…"
      ]
     },
     "metadata": {},
     "output_type": "display_data"
    },
    {
     "name": "stdout",
     "output_type": "stream",
     "text": [
      "+--------------------+----------------+------------------+----+\n",
      "|               brand|           state|         avg_price|rank|\n",
      "+--------------------+----------------+------------------+----+\n",
      "|            dr. simi|ciudad de mexico|              14.0|   1|\n",
      "|            curapack|ciudad de mexico|20.723846153846157|   2|\n",
      "|escudo antibacterial|ciudad de mexico|21.511706203035242|   3|\n",
      "|          zuum. klin|ciudad de mexico|21.602950886488625|   4|\n",
      "|               hands|ciudad de mexico| 22.16253561253561|   5|\n",
      "+--------------------+----------------+------------------+----+"
     ]
    }
   ],
   "source": [
    "# top 5 least expensive brands in CDMX\n",
    "(\n",
    "    df_qqp_our_category_avg_price_per_brand_state\n",
    "    .withColumn('rank', F.row_number().over(\n",
    "        Window.partitionBy('state').orderBy('avg_price')\n",
    "        ))\n",
    "    .filter(col('state') == 'ciudad de mexico')\n",
    "    .filter('rank <= 5')\n",
    "    .show(6)\n",
    "    )"
   ]
  },
  {
   "cell_type": "markdown",
   "metadata": {},
   "source": [
    "Las marcas _identificables_ con el menor precio de la CDMX son `protec` `quality day` `soriana` `farmacom` y `escudo antibacterial`"
   ]
  },
  {
   "cell_type": "markdown",
   "metadata": {},
   "source": [
    "### Q7: ¿Cuáles son el top 5 de marcas con mayores observaciones? ¿Se parecen a las de nivel por estado?"
   ]
  },
  {
   "cell_type": "code",
   "execution_count": 29,
   "metadata": {},
   "outputs": [
    {
     "data": {
      "application/vnd.jupyter.widget-view+json": {
       "model_id": "",
       "version_major": 2,
       "version_minor": 0
      },
      "text/plain": [
       "FloatProgress(value=0.0, bar_style='info', description='Progress:', layout=Layout(height='25px', width='50%'),…"
      ]
     },
     "metadata": {},
     "output_type": "display_data"
    },
    {
     "name": "stdout",
     "output_type": "stream",
     "text": [
      "+---------------+--------+\n",
      "|          brand|   count|\n",
      "+---------------+--------+\n",
      "|            s/m|17840684|\n",
      "|      sin marca|  236545|\n",
      "|cualquier marca|  189801|\n",
      "|         le roy|  164858|\n",
      "|           zuum|  105398|\n",
      "|          omron|   80857|\n",
      "+---------------+--------+\n",
      "only showing top 6 rows"
     ]
    }
   ],
   "source": [
    "# top 5 brands with more observations per state (WIP)\n",
    "(\n",
    "    df_qqp_our_category\n",
    "    .groupBy('brand')\n",
    "    .count()\n",
    "    .orderBy('count', ascending=False)\n",
    "    .show(6)\n",
    "    )"
   ]
  },
  {
   "cell_type": "markdown",
   "metadata": {},
   "source": [
    "Las marcas _identificables_ con el más productos del pais son `le roy` `zuum` `omron` `medimart` y `dalux`"
   ]
  },
  {
   "cell_type": "code",
   "execution_count": 30,
   "metadata": {},
   "outputs": [
    {
     "data": {
      "application/vnd.jupyter.widget-view+json": {
       "model_id": "",
       "version_major": 2,
       "version_minor": 0
      },
      "text/plain": [
       "FloatProgress(value=0.0, bar_style='info', description='Progress:', layout=Layout(height='25px', width='50%'),…"
      ]
     },
     "metadata": {},
     "output_type": "display_data"
    }
   ],
   "source": [
    "# table of counts by state and brand and get top 5 brands per state\n",
    "table_brand_state_count_top5 = (\n",
    "    df_qqp_our_category\n",
    "    .groupBy('state', 'brand')\n",
    "    .count()\n",
    "    .withColumn('rank', F.row_number().over(\n",
    "        Window.partitionBy('state').orderBy(F.desc('count'))\n",
    "        ))\n",
    "    .filter('rank <= 5')\n",
    "    )"
   ]
  },
  {
   "cell_type": "markdown",
   "metadata": {},
   "source": [
    "En una tabla aparte se puede observar las 5 marcas con más observaciones por estado"
   ]
  },
  {
   "cell_type": "markdown",
   "metadata": {},
   "source": [
    "### Q8: ¿Ha dejado de existir alguna marca durante los años que tienes? ¿Cuál? ¿Cuándo desapareció?"
   ]
  },
  {
   "cell_type": "code",
   "execution_count": 31,
   "metadata": {},
   "outputs": [
    {
     "data": {
      "application/vnd.jupyter.widget-view+json": {
       "model_id": "",
       "version_major": 2,
       "version_minor": 0
      },
      "text/plain": [
       "FloatProgress(value=0.0, bar_style='info', description='Progress:', layout=Layout(height='25px', width='50%'),…"
      ]
     },
     "metadata": {},
     "output_type": "display_data"
    }
   ],
   "source": [
    "# distinct observeations for year and brand (WIP)\n",
    "table_brand_year_count = (\n",
    "    df_qqp_our_category\n",
    "    .groupBy('year', 'brand')\n",
    "    .count()\n",
    "    .orderBy('year', 'count')\n",
    "    )"
   ]
  },
  {
   "cell_type": "markdown",
   "metadata": {},
   "source": [
    "En una tabla aparte se puede observar la tabla con las marcas que han dejado de existir y en el año en la que dejó de existir"
   ]
  },
  {
   "cell_type": "markdown",
   "metadata": {},
   "source": [
    "### Q9: Genera una gráfica de serie de tiempo por estado para la marca con mayor precio -en todos los años-, donde el eje equis es el año y el eje ye es el precio máximo."
   ]
  },
  {
   "cell_type": "code",
   "execution_count": 32,
   "metadata": {},
   "outputs": [
    {
     "data": {
      "application/vnd.jupyter.widget-view+json": {
       "model_id": "",
       "version_major": 2,
       "version_minor": 0
      },
      "text/plain": [
       "FloatProgress(value=0.0, bar_style='info', description='Progress:', layout=Layout(height='25px', width='50%'),…"
      ]
     },
     "metadata": {},
     "output_type": "display_data"
    },
    {
     "name": "stdout",
     "output_type": "stream",
     "text": [
      "+----+--------------------+------------------+\n",
      "|year|               state|         max_price|\n",
      "+----+--------------------+------------------+\n",
      "|2018|      aguascalientes|388.22660206105945|\n",
      "|2018|     baja california| 419.5214806359877|\n",
      "|2018| baja california sur|402.06128286014683|\n",
      "|2018|            campeche|381.20061637415125|\n",
      "|2018|             chiapas| 403.2377926083793|\n",
      "|2018|           chihuahua|448.99039110831933|\n",
      "|2018|    ciudad de mexico|440.91772056453067|\n",
      "|2018|coahuila de zaragoza| 403.1310508026669|\n",
      "|2018|              colima| 387.3165168519595|\n",
      "|2018|             durango| 396.9891012485812|\n",
      "|2018|    estado de mexico| 436.0948229431829|\n",
      "|2018|          guanajuato| 458.9055676704322|\n",
      "|2018|            guerrero|  392.859522975657|\n",
      "|2018|             hidalgo|   440.05489464648|\n",
      "|2018|             jalisco|396.75492776932094|\n",
      "|2018| michoacan de ocampo|462.06874465090885|\n",
      "|2018|             morelos| 408.8609457837893|\n",
      "|2018|             nayarit|420.89165703734733|\n",
      "|2018|          nuevo leon| 395.0497560214426|\n",
      "|2018|              oaxaca|418.74554375023365|\n",
      "+----+--------------------+------------------+\n",
      "only showing top 20 rows"
     ]
    }
   ],
   "source": [
    "# for each year, get the most expensive brand (WIP)\n",
    "table_state_year_max_price = (\n",
    "    df_qqp_our_category\n",
    "    # get avg price per brand, state and year\n",
    "    .groupBy('year', 'brand', 'state')\n",
    "    .agg(F.avg('price').alias('avg_price'))\n",
    "    # get the max price per state and year\n",
    "    .groupBy('year', 'state')\n",
    "    .agg(F.max('avg_price').alias('max_price'))\n",
    "    .orderBy('year', 'state')\n",
    "    \n",
    "    )\n",
    "table_state_year_max_price.show()"
   ]
  },
  {
   "cell_type": "markdown",
   "metadata": {},
   "source": [
    "En un gráfico por aparte se puede ver la tendencia de los precios máximos por estado en cada año"
   ]
  },
  {
   "cell_type": "markdown",
   "metadata": {},
   "source": [
    "## Save"
   ]
  },
  {
   "cell_type": "code",
   "execution_count": 37,
   "metadata": {},
   "outputs": [
    {
     "data": {
      "application/vnd.jupyter.widget-view+json": {
       "model_id": "",
       "version_major": 2,
       "version_minor": 0
      },
      "text/plain": [
       "FloatProgress(value=0.0, bar_style='info', description='Progress:', layout=Layout(height='25px', width='50%'),…"
      ]
     },
     "metadata": {},
     "output_type": "display_data"
    }
   ],
   "source": [
    "# sabe tables to s3\n",
    "table_brand_count.write.mode('overwrite').parquet(f\"{BUCKET}/{FOLDER}/ouputs/brand_count\")\n",
    "table_price_brand_top5.write.mode('overwrite').parquet(f\"{BUCKET}/{FOLDER}/ouputs/price_brand_top5\")\n",
    "table_brand_year_count.write.mode('overwrite').parquet(f\"{BUCKET}/{FOLDER}/ouputs/brand_state_count\")\n",
    "table_brand_state_count_top5.write.mode('overwrite').parquet(f\"{BUCKET}/{FOLDER}/ouputs/brand_year_count_top5\")\n",
    "table_state_year_max_price.write.mode('overwrite').parquet(f\"{BUCKET}/{FOLDER}/ouputs/state_year_max_price\")\n"
   ]
  }
 ],
 "metadata": {
  "kernelspec": {
   "display_name": "PySpark",
   "language": "python",
   "name": "pysparkkernel"
  },
  "language_info": {
   "codemirror_mode": {
    "name": "python",
    "version": 3
   },
   "file_extension": ".py",
   "mimetype": "text/x-python",
   "name": "pyspark",
   "pygments_lexer": "python3"
  }
 },
 "nbformat": 4,
 "nbformat_minor": 2
}
