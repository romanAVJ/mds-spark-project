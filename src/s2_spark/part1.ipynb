{
 "cells": [
  {
   "cell_type": "markdown",
   "metadata": {},
   "source": [
    "# Partial Exam of Spark\n",
    "\n",
    "@roman\n",
    "\n",
    "20 apr 2024"
   ]
  },
  {
   "cell_type": "markdown",
   "metadata": {},
   "source": [
    "---\n",
    "# Settings"
   ]
  },
  {
   "cell_type": "code",
   "execution_count": null,
   "metadata": {},
   "outputs": [],
   "source": [
    "from pyspark.sql import SparkSession\n",
    "import pyspark.sql.functions as F, lit, col\n",
    "from pyspark.sql.window import Window"
   ]
  },
  {
   "cell_type": "code",
   "execution_count": null,
   "metadata": {},
   "outputs": [],
   "source": [
    "# init spark session\n",
    "spark = SparkSession.builder.appName('QPP').getOrCreate()"
   ]
  },
  {
   "cell_type": "code",
   "execution_count": null,
   "metadata": {},
   "outputs": [],
   "source": [
    "# bucket\n",
    "NAME = 'roman'\n",
    "BUCKET = f\"s3://itam-analytics-{NAME}\"\n",
    "FOLDER = 'qqp'\n",
    "NAME_FILE = 'qqp'\n",
    "\n",
    "# type of catalog\n",
    "CATALOG_TYPE = 'medicamentos'"
   ]
  },
  {
   "cell_type": "markdown",
   "metadata": {},
   "source": [
    "---\n",
    "# Data"
   ]
  },
  {
   "cell_type": "code",
   "execution_count": null,
   "metadata": {},
   "outputs": [],
   "source": [
    "# read raw data from S3\n",
    "df_qqp = spark.read.csv(f\"{BUCKET}/{FOLDER}/{NAME_FILE}.csv\", header=True, inferSchema=True)"
   ]
  },
  {
   "cell_type": "code",
   "execution_count": null,
   "metadata": {},
   "outputs": [],
   "source": [
    "# look columns\n",
    "df_qqp.printSchema()"
   ]
  },
  {
   "cell_type": "code",
   "execution_count": null,
   "metadata": {},
   "outputs": [],
   "source": [
    "# save to parquet in s3, partioned by catalog type\n",
    "df_qqp.write.mode('overwrite').partitionBy('catalog').parquet(f\"{BUCKET}/{FOLDER}/{NAME_FILE}\")"
   ]
  },
  {
   "cell_type": "markdown",
   "metadata": {},
   "source": [
    "---\n",
    "# Questions"
   ]
  },
  {
   "cell_type": "markdown",
   "metadata": {},
   "source": [
    "## S1: General"
   ]
  },
  {
   "cell_type": "markdown",
   "metadata": {},
   "source": [
    "### Get Data"
   ]
  },
  {
   "cell_type": "code",
   "execution_count": null,
   "metadata": {},
   "outputs": [],
   "source": [
    "# read parquet from s3\n",
    "df_qqp = spark.read.parquet(f\"{BUCKET}/{FOLDER}/{NAME_FILE}\")\n",
    "\n",
    "# look columns\n",
    "df_qqp.printSchema()"
   ]
  },
  {
   "cell_type": "code",
   "execution_count": null,
   "metadata": {},
   "outputs": [],
   "source": [
    "# from the column created_at, extract the year\n",
    "df_qqp = df_qqp.withColumn('year', F.year('created_at'))"
   ]
  },
  {
   "cell_type": "code",
   "execution_count": null,
   "metadata": {},
   "outputs": [],
   "source": [
    "# look # of rows  per year\n",
    "df_qqp.groupBy('year').count().show()"
   ]
  },
  {
   "cell_type": "markdown",
   "metadata": {},
   "source": [
    "### Q1: ¿Cuántos catálogos diferentes tenemos?"
   ]
  },
  {
   "cell_type": "code",
   "execution_count": null,
   "metadata": {},
   "outputs": [],
   "source": [
    "# num different catalogs\n",
    "df_qqp.agg(F.countDistinct('catalog')).show()"
   ]
  },
  {
   "cell_type": "code",
   "execution_count": null,
   "metadata": {},
   "outputs": [],
   "source": [
    "# num different catalogs per year\n",
    "df_qqp.groupBy('year').agg(F.countDistinct('catalog')).show()"
   ]
  },
  {
   "cell_type": "markdown",
   "metadata": {},
   "source": [
    "En total hay 12 catálogos diferentes, sin embargo no todos los catálogos están presentes en todos los años. Por ejemplo, en 2018 solo hay 10 catálogos diferentes."
   ]
  },
  {
   "cell_type": "markdown",
   "metadata": {},
   "source": [
    "### Q2: ¿Cuáles son los 20 catálogos con más observaciones?"
   ]
  },
  {
   "cell_type": "code",
   "execution_count": null,
   "metadata": {},
   "outputs": [],
   "source": [
    "# table count of each catalog, show only first 20\n",
    "table_count_catalogue = df_qqp.groupBy('year', 'catalog').count().orderBy('year', 'catalog')\n",
    "\n",
    "# get only first 20 per year\n",
    "table_count_catalogue = (\n",
    "    table_count_catalogue\n",
    "    .withColumn('rank', F.row_number().over(\n",
    "        Window.partitionBy('year').orderBy(F.desc('count'))\n",
    "        ))\n",
    "    .filter('rank <= 20')\n",
    "    )\n",
    "table_count_catalogue.show()"
   ]
  },
  {
   "cell_type": "markdown",
   "metadata": {},
   "source": [
    "### Q3: ¿Tenemos datos de todos los estados del país? De no ser así, ¿cuáles faltan?"
   ]
  },
  {
   "cell_type": "code",
   "execution_count": null,
   "metadata": {},
   "outputs": [],
   "source": [
    "# get table count for each year catalog the # of distinct states\n",
    "table_count_num_states_per_year_catalog = (\n",
    "    df_qqp\n",
    "    .groupBy('catalog', 'state', 'year')\n",
    "    .count()\n",
    "    .orderBy('catalog', 'state', 'year')\n",
    "    )\n",
    "\n",
    "# generate table of # of distinct states per year and catalog\n",
    "distinct_states = df_qqp.select('state').distinct()\n",
    "distinct_years = df_qqp.select('year').distinct()\n",
    "distinct_catalogs = df_qqp.select('catalog').distinct()\n",
    "\n",
    "df_cross_join_state_year_catalog = (\n",
    "    distinct_catalogs\n",
    "    .crossJoin(distinct_states)\n",
    "    .crossJoin(distinct_years)\n",
    "    )\n",
    "\n",
    "# get which catalog state and year are missing\n",
    "table_missing = (\n",
    "    df_cross_join_state_year_catalog\n",
    "    .join(table_count_num_states_per_year_catalog, ['catalog', 'state', 'year'], 'left')\n",
    "    .filter('count is null')\n",
    "    )\n",
    "\n",
    "# show missing\n",
    "print(f\"Missing: {table_missing.count()}\")"
   ]
  },
  {
   "cell_type": "code",
   "execution_count": null,
   "metadata": {},
   "outputs": [],
   "source": [
    "# look\n",
    "table_missing.show()"
   ]
  },
  {
   "cell_type": "markdown",
   "metadata": {},
   "source": [
    "No hay datos para todos los estados. Faltan 2 estados a partir del 2021."
   ]
  },
  {
   "cell_type": "code",
   "execution_count": null,
   "metadata": {},
   "outputs": [],
   "source": [
    "# get table of the names of the states\n",
    "table_states = df_qqp.select('state').distinct().orderBy('state')\n",
    "\n",
    "# count the # of rows per state and year\n",
    "table_count_states = df_qqp.groupBy('state', 'year').count().orderBy('state', 'year')\n",
    "table_count_states.show()"
   ]
  },
  {
   "cell_type": "code",
   "execution_count": null,
   "metadata": {},
   "outputs": [],
   "source": [
    "# pivot the table to have years as columns\n",
    "(\n",
    "    table_count_states\n",
    "    .groupBy('state')\n",
    "    .pivot('year')\n",
    "    .agg(F.coalesce(F.lit(1), F.lit(0)))\n",
    "    .orderBy('state')\n",
    "    .show(32)\n",
    "    )"
   ]
  },
  {
   "cell_type": "markdown",
   "metadata": {},
   "source": [
    "Los estados que no tienen información de ciertos catálogos (si es esta la pregunta?)"
   ]
  },
  {
   "cell_type": "markdown",
   "metadata": {},
   "source": [
    "### Q4: ¿Cuántas observaciones tenemos por estado?\n"
   ]
  },
  {
   "cell_type": "code",
   "execution_count": null,
   "metadata": {},
   "outputs": [],
   "source": [
    "# count the number of different catalogs (WIP)\n",
    "table_qqp_state_catalog_year = (\n",
    "    df_qqp\n",
    "    .groupBy('state', 'catalog', 'year')\n",
    "    .count()\n",
    "    .orderBy('state', 'catalog', 'year')\n",
    "    )\n",
    "table_qqp_state_catalog_year.show()"
   ]
  },
  {
   "cell_type": "markdown",
   "metadata": {},
   "source": [
    "### Q5: De cada estado obten: el número de catalogos diferentes por año, ¿ha aumentado el número de catálogos con el tiempo?"
   ]
  },
  {
   "cell_type": "code",
   "execution_count": null,
   "metadata": {},
   "outputs": [],
   "source": [
    "# count the number of different catalogs per year\n",
    "table_qqp_year_state_diff_catalog = (\n",
    "    df_qqp\n",
    "    .groupBy('state', 'year')\n",
    "    .agg(F.countDistinct('catalog').alias('count_catalogs'))\n",
    "    .orderBy('state', 'year')\n",
    "    .groupBy('state')\n",
    "    .pivot('year')\n",
    "    .agg(F.first('count_catalogs'))\n",
    "    .orderBy('state')\n",
    "    )\n",
    "table_qqp_year_state_diff_catalog.show(32)"
   ]
  },
  {
   "cell_type": "markdown",
   "metadata": {},
   "source": [
    "Falta observar tendencias en el tiempo para afirmar si hay un crecimiento en el número de catálogos por estado"
   ]
  },
  {
   "cell_type": "markdown",
   "metadata": {},
   "source": [
    "### Save tables"
   ]
  },
  {
   "cell_type": "code",
   "execution_count": null,
   "metadata": {},
   "outputs": [],
   "source": [
    "# save tables to s3\n",
    "table_count_catalogue.write.mode('overwrite').parquet(f\"{BUCKET}/{FOLDER}/ouputs/all/table_count_catalogue\")\n",
    "table_missing.write.mode('overwrite').parquet(f\"{BUCKET}/{FOLDER}/ouputs/all/table_missing\")\n",
    "table_qqp_state_catalog_year.write.mode('overwrite').parquet(f\"{BUCKET}/{FOLDER}/ouputs/all/table_qqp_state_catalog_year\")\n",
    "table_qqp_year_state_diff_catalog.write.mode('overwrite').parquet(f\"{BUCKET}/{FOLDER}/ouputs/all/table_qqp_year_state_diff_catalog\")"
   ]
  },
  {
   "cell_type": "markdown",
   "metadata": {},
   "source": [
    "## S2: Particular"
   ]
  },
  {
   "cell_type": "markdown",
   "metadata": {},
   "source": [
    "### Get Data"
   ]
  },
  {
   "cell_type": "code",
   "execution_count": null,
   "metadata": {},
   "outputs": [],
   "source": [
    "# filter by catalog\n",
    "df_qqp_our_category = df_qqp.filter(col('catalog') == CATALOG_TYPE)\n",
    "\n",
    "# look # of rows\n",
    "df_qqp_our_category.count()"
   ]
  },
  {
   "cell_type": "markdown",
   "metadata": {},
   "source": [
    "### Q1: ¿Cuańtas marcas diferentes tiene tu categoría?"
   ]
  },
  {
   "cell_type": "code",
   "execution_count": null,
   "metadata": {},
   "outputs": [],
   "source": [
    "# how many different brands are there?\n",
    "df_qqp_our_category.select('brand').distinct().count()"
   ]
  },
  {
   "cell_type": "markdown",
   "metadata": {},
   "source": [
    "### Q2: ¿Cuál es la marca con mayor precio? ¿En qué estado?"
   ]
  },
  {
   "cell_type": "code",
   "execution_count": null,
   "metadata": {},
   "outputs": [],
   "source": [
    "# which brand has the highest price and in which state?\n",
    "(\n",
    "    df_qqp_our_category\n",
    "    .orderBy(col('price').desc())\n",
    "    .select('brand', 'state', 'price').show(1)\n",
    "    )"
   ]
  },
  {
   "cell_type": "markdown",
   "metadata": {},
   "source": [
    "### Q3: ¿Cuál es la marca con menor precio en CDMX? (en aquel entonces Distrito Federal)\n"
   ]
  },
  {
   "cell_type": "code",
   "execution_count": null,
   "metadata": {},
   "outputs": [],
   "source": [
    "# idem but in CDMX\n",
    "(\n",
    "    df_qqp_our_category\n",
    "    .filter(col('state') == 'ciudad de mexico')\n",
    "    .orderBy(col('price').desc())\n",
    "    .select('brand', 'state', 'price').show(1)\n",
    "    )"
   ]
  },
  {
   "cell_type": "markdown",
   "metadata": {},
   "source": [
    "### Q4: ¿Cuál es la marca con mayores observaciones?"
   ]
  },
  {
   "cell_type": "code",
   "execution_count": null,
   "metadata": {},
   "outputs": [],
   "source": [
    "# which brand has more observations?\n",
    "table_brand_count = df_qqp_our_category.groupBy('brand').count().orderBy('count', ascending=False)\n",
    "table_brand_count.show()"
   ]
  },
  {
   "cell_type": "markdown",
   "metadata": {},
   "source": [
    "### Q5: ¿Cuáles son el top 5 de marcas con mayor precio en cada estado? ¿Son diferentes?"
   ]
  },
  {
   "cell_type": "code",
   "execution_count": null,
   "metadata": {},
   "outputs": [],
   "source": [
    "# for each state, get the top 5 most expensive brands (WIP)\n",
    "table_price_brand_top5 = (\n",
    "    df_qqp_our_category\n",
    "    .groupBy('state', 'brand')\n",
    "    .agg(F.max('price').alias('max_price'))\n",
    "    .orderBy(col('max_price').desc())\n",
    "    .withColumn('rank', F.row_number().over(\n",
    "        Window.partitionBy('state').orderBy(F.desc('max_price'))\n",
    "        ))\n",
    "    .filter('rank <= 5')\n",
    "    )\n"
   ]
  },
  {
   "cell_type": "markdown",
   "metadata": {},
   "source": [
    "### Q6: ¿Cuáles son el top 5 de marcas con menor precio en CDMX? (en aquel entonces Distrito Federal)"
   ]
  },
  {
   "cell_type": "code",
   "execution_count": null,
   "metadata": {},
   "outputs": [],
   "source": [
    "# top 5 least expensive brands in CDMX\n",
    "(\n",
    "    df_qqp_our_category\n",
    "    .filter(col('state') == 'ciudad de mexico')\n",
    "    .groupBy('brand')\n",
    "    .agg(F.min('price').alias('min_price'))\n",
    "    .orderBy(col('min_price').asc())\n",
    "    .select('brand', 'min_price')\n",
    "    .show(5)\n",
    "    )"
   ]
  },
  {
   "cell_type": "markdown",
   "metadata": {},
   "source": [
    "### Q7: ¿Cuáles son el top 5 de marcas con mayores observaciones? ¿Se parecen a las de nivel por estado?"
   ]
  },
  {
   "cell_type": "code",
   "execution_count": null,
   "metadata": {},
   "outputs": [],
   "source": [
    "# top 5 brands with more observations per state (WIP)\n",
    "(\n",
    "    df_qqp_our_category\n",
    "    .groupBy('brand')\n",
    "    .count()\n",
    "    .orderBy('count', ascending=False)\n",
    "    .show(5)\n",
    "    )"
   ]
  },
  {
   "cell_type": "code",
   "execution_count": null,
   "metadata": {},
   "outputs": [],
   "source": [
    "# table of counts by state and brand and get top 5 brands per state\n",
    "table_brand_state_count_top5 = (\n",
    "    df_qqp_our_category\n",
    "    .groupBy('state', 'brand')\n",
    "    .count()\n",
    "    .withColumn('rank', F.row_number().over(\n",
    "        Window.partitionBy('state').orderBy(F.desc('count'))\n",
    "        ))\n",
    "    .filter('rank <= 5')\n",
    "    )"
   ]
  },
  {
   "cell_type": "markdown",
   "metadata": {},
   "source": [
    "### Q8: ¿Ha dejado de existir alguna marca durante los años que tienes? ¿Cuál? ¿Cuándo desapareció?"
   ]
  },
  {
   "cell_type": "code",
   "execution_count": null,
   "metadata": {},
   "outputs": [],
   "source": [
    "# distinct observeations for year and brand (WIP)\n",
    "table_brand_year_count = (\n",
    "    df_qqp_our_category\n",
    "    .groupBy('year', 'brand')\n",
    "    .count()\n",
    "    .orderBy('year', 'count')\n",
    "    )"
   ]
  },
  {
   "cell_type": "markdown",
   "metadata": {},
   "source": [
    "### Q9: Genera una gráfica de serie de tiempo por estado para la marca con mayor precio -en todos los años-, donde el eje equis es el año y el eje ye es el precio máximo."
   ]
  },
  {
   "cell_type": "code",
   "execution_count": null,
   "metadata": {},
   "outputs": [],
   "source": [
    "# for each year, get the most expensive brand (WIP)\n",
    "table_state_year_max_price = (\n",
    "    df_qqp_our_category\n",
    "    .groupBy('state', 'year')\n",
    "    .agg(F.max('price').alias('max_price'))\n",
    "    .orderBy('state', 'year', col('max_price').desc())\n",
    "    )\n",
    "table_state_year_max_price.show()"
   ]
  },
  {
   "cell_type": "markdown",
   "metadata": {},
   "source": [
    "## Save"
   ]
  },
  {
   "cell_type": "code",
   "execution_count": null,
   "metadata": {},
   "outputs": [],
   "source": [
    "# sabe tables to s3\n",
    "table_brand_count.write.mode('overwrite').parquet(f\"{BUCKET}/{FOLDER}/ouputs/brand_count\")\n",
    "table_price_brand_top5.write.mode('overwrite').parquet(f\"{BUCKET}/{FOLDER}/ouputs/price_brand_top5\")\n",
    "table_brand_state_count.write.mode('overwrite').parquet(f\"{BUCKET}/{FOLDER}/ouputs/brand_state_count\")\n",
    "table_brand_state_count_top5.write.mode('overwrite').parquet(f\"{BUCKET}/{FOLDER}/ouputs/brand_year_count_top5\")\n",
    "table_state_year_max_price.write.mode('overwrite').parquet(f\"{BUCKET}/{FOLDER}/ouputs/state_year_max_price\")\n"
   ]
  }
 ],
 "metadata": {
  "language_info": {
   "name": "python"
  }
 },
 "nbformat": 4,
 "nbformat_minor": 2
}
