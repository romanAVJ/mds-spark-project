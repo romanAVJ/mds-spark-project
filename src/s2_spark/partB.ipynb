{
 "cells": [
  {
   "cell_type": "markdown",
   "metadata": {},
   "source": [
    "# Part B: Athena Queries\n",
    "\n",
    "Create a database in athena using the partitioned data in S3 of the Quien es Quien en los Precios data from 2018 to 2024. \n",
    "\n",
    "@roman\n",
    "\n",
    "21 apr 2024"
   ]
  },
  {
   "cell_type": "markdown",
   "metadata": {},
   "source": [
    "---\n",
    "# Settings"
   ]
  },
  {
   "cell_type": "code",
   "execution_count": 6,
   "metadata": {},
   "outputs": [],
   "source": [
    "import os\n",
    "import boto3\n",
    "from pyathena import connect\n",
    "import awswrangler as wr\n",
    "import pandas as pd\n",
    "import yaml\n",
    "from datetime import datetime\n",
    "from tqdm import tqdm"
   ]
  },
  {
   "cell_type": "code",
   "execution_count": 7,
   "metadata": {},
   "outputs": [],
   "source": [
    "# get config file\n",
    "with open(\"../../config.yaml\", \"r\") as file:\n",
    "    config = yaml.safe_load(file)"
   ]
  },
  {
   "cell_type": "code",
   "execution_count": 14,
   "metadata": {},
   "outputs": [],
   "source": [
    "# AWS Settings\n",
    "session = boto3.Session(profile_name=\"arquitectura\")\n",
    "s3 = session.client(\"s3\")\n",
    "\n",
    "# set region east-1 to boto3\n",
    "os.environ[\"AWS_DEFAULT_REGION\"] = \"us-east-1\"\n",
    "\n",
    "# Bucket\n",
    "BUCKET_NAME = config[\"s3\"][\"bucket\"]\n",
    "\n",
    "# Sub Bucket\n",
    "FOLDER_NAME = config[\"s3\"][\"folder\"]\n",
    "\n",
    "# Bucket Query\n",
    "FILE = config[\"s3\"][\"file\"]\n",
    "\n",
    "# Database Name\n",
    "DATABASE_NAME = config[\"athena\"][\"db_name\"]\n",
    "\n",
    "# Table Name\n",
    "TABLE_NAME = config[\"athena\"][\"table_name\"]\n",
    "\n",
    "# Bucket Query\n",
    "BUCKET_QUERY = config[\"athena\"][\"bucket_queries\"]"
   ]
  },
  {
   "cell_type": "markdown",
   "metadata": {},
   "source": [
    "---\n",
    "# Configure Database at Athena"
   ]
  },
  {
   "cell_type": "markdown",
   "metadata": {},
   "source": [
    "## S1: DB"
   ]
  },
  {
   "cell_type": "code",
   "execution_count": 10,
   "metadata": {},
   "outputs": [],
   "source": [
    "# create glue client with profile session\n",
    "glue_client = session.client(\"glue\")"
   ]
  },
  {
   "cell_type": "code",
   "execution_count": 11,
   "metadata": {},
   "outputs": [
    {
     "name": "stdout",
     "output_type": "stream",
     "text": [
      "{'ResponseMetadata': {'RequestId': '27ad870a-6479-4da6-8ec7-60a744dc7015', 'HTTPStatusCode': 200, 'HTTPHeaders': {'date': 'Mon, 22 Apr 2024 02:53:57 GMT', 'content-type': 'application/x-amz-json-1.1', 'content-length': '2', 'connection': 'keep-alive', 'x-amzn-requestid': '27ad870a-6479-4da6-8ec7-60a744dc7015'}, 'RetryAttempts': 0}}\n"
     ]
    }
   ],
   "source": [
    "# create database\n",
    "response = glue_client.create_database(\n",
    "    DatabaseInput={\n",
    "        \"Name\": DATABASE_NAME,\n",
    "        \"Description\": \"Database for QQP\"\n",
    "    }\n",
    ")\n",
    "\n",
    "print(response)"
   ]
  },
  {
   "cell_type": "code",
   "execution_count": 12,
   "metadata": {},
   "outputs": [
    {
     "name": "stdout",
     "output_type": "stream",
     "text": [
      "{'ResponseMetadata': {'RequestId': '898ZVP4E0MNSAGW6', 'HostId': 'dte10Xm+FzLibrBSP/dOpsGfnmHkIk+kdFoTNdYAbrluevKxfFwjyml4hZgilodBZIs2YmD1cV8=', 'HTTPStatusCode': 200, 'HTTPHeaders': {'x-amz-id-2': 'dte10Xm+FzLibrBSP/dOpsGfnmHkIk+kdFoTNdYAbrluevKxfFwjyml4hZgilodBZIs2YmD1cV8=', 'x-amz-request-id': '898ZVP4E0MNSAGW6', 'date': 'Mon, 22 Apr 2024 02:54:01 GMT', 'location': '/itam-analytics-roman-queries', 'server': 'AmazonS3', 'content-length': '0'}, 'RetryAttempts': 0}, 'Location': '/itam-analytics-roman-queries'}\n"
     ]
    }
   ],
   "source": [
    "# set query bocket\n",
    "response = s3.create_bucket(Bucket=BUCKET_QUERY)\n",
    "print(response)"
   ]
  },
  {
   "cell_type": "markdown",
   "metadata": {},
   "source": [
    "## S2: Tables"
   ]
  },
  {
   "cell_type": "markdown",
   "metadata": {},
   "source": [
    "### Create Table"
   ]
  },
  {
   "cell_type": "code",
   "execution_count": null,
   "metadata": {},
   "outputs": [],
   "source": [
    "CREATE EXTERNAL TABLE IF NOT EXISTS `profeco_db`.`profeco` (\n",
    "  `product` string,\n",
    "  `presentation` string,\n",
    "  `brand` string,\n",
    "  `category` string,\n",
    "  `catalog` string,\n",
    "  `price` double,\n",
    "  `created_at` date,\n",
    "  `store` string,\n",
    "  `type_of_store` string,\n",
    "  `branch` string,\n",
    "  `direction` string,\n",
    "  `state` string,\n",
    "  `city` string,\n",
    "  `latitude` string,\n",
    "  `longitude` string\n",
    ") COMMENT \"djasof\"\n",
    "PARTITIONED BY (`catalog` string)\n",
    "ROW FORMAT SERDE 'org.apache.hadoop.hive.ql.io.parquet.serde.ParquetHiveSerDe'\n",
    "STORED AS INPUTFORMAT 'org.apache.hadoop.hive.ql.io.parquet.MapredParquetInputFormat' OUTPUTFORMAT 'org.apache.hadoop.hive.ql.io.parquet.MapredParquetOutputFormat'\n",
    "LOCATION 's3://itam-analytics-roman/qqp/qqp/'\n",
    "TBLPROPERTIES ('classification' = 'parquet');"
   ]
  },
  {
   "cell_type": "code",
   "execution_count": 28,
   "metadata": {},
   "outputs": [
    {
     "name": "stdout",
     "output_type": "stream",
     "text": [
      "['product string', 'presentation string', 'brand string', 'category string', 'catalog string', 'price double', 'created_at date', 'store string', 'type_of_store string', 'branch string', 'direction string', 'state string', 'city string', 'latitude string', 'longitude string']\n"
     ]
    }
   ],
   "source": [
    "dict_qux =                 [{\"Name\": \"product\", \"Type\": \"string\"},\n",
    "                {\"Name\": \"presentation\", \"Type\": \"string\"},\n",
    "                {\"Name\": \"brand\", \"Type\": \"string\"},\n",
    "                {\"Name\": \"category\", \"Type\": \"string\"},\n",
    "                {\"Name\": \"catalog\", \"Type\": \"string\"},\n",
    "                {\"Name\": \"price\", \"Type\": \"double\"},\n",
    "                {\"Name\": \"created_at\", \"Type\": \"date\"},\n",
    "                {\"Name\": \"store\", \"Type\": \"string\"},\n",
    "                {\"Name\": \"type_of_store\", \"Type\": \"string\"},\n",
    "                {\"Name\": \"branch\", \"Type\": \"string\"},\n",
    "                {\"Name\": \"direction\", \"Type\": \"string\"},\n",
    "                {\"Name\": \"state\", \"Type\": \"string\"},\n",
    "                {\"Name\": \"city\", \"Type\": \"string\"},\n",
    "                {\"Name\": \"latitude\", \"Type\": \"string\"},\n",
    "                {\"Name\": \"longitude\", \"Type\": \"string\"}]\n",
    "\n",
    "# get tuples of dict in the following way key value, key value, \n",
    "columns = [f\"{list(item.values())[0]} {list(item.values())[1]}\" for item in dict_qux]\n",
    "print(columns)"
   ]
  },
  {
   "cell_type": "code",
   "execution_count": 29,
   "metadata": {},
   "outputs": [
    {
     "data": {
      "text/plain": [
       "15"
      ]
     },
     "execution_count": 29,
     "metadata": {},
     "output_type": "execute_result"
    }
   ],
   "source": [
    "len(dict_qux)"
   ]
  },
  {
   "cell_type": "code",
   "execution_count": null,
   "metadata": {},
   "outputs": [],
   "source": [
    "product string, presentation string, brand string, category string, catalog string, price double, created_at date, store string, type_of_store string, branch string, direction string, state string, city string, latitude string, longitude string"
   ]
  },
  {
   "cell_type": "code",
   "execution_count": 23,
   "metadata": {},
   "outputs": [
    {
     "name": "stdout",
     "output_type": "stream",
     "text": [
      "{'ResponseMetadata': {'RequestId': '78c3a0f3-fdaf-41c0-864d-462f3f740b44', 'HTTPStatusCode': 200, 'HTTPHeaders': {'date': 'Mon, 22 Apr 2024 03:51:23 GMT', 'content-type': 'application/x-amz-json-1.1', 'content-length': '2', 'connection': 'keep-alive', 'x-amzn-requestid': '78c3a0f3-fdaf-41c0-864d-462f3f740b44'}, 'RetryAttempts': 0}}\n"
     ]
    }
   ],
   "source": [
    "response = glue_client.create_table(\n",
    "    DatabaseName=DATABASE_NAME,\n",
    "    TableInput={\n",
    "        \"Name\": TABLE_NAME,\n",
    "        \"Description\": \"Quien es Quien en Precios Data; from 2018 to 2024\",\n",
    "        # \"PartitionKeys\": [   # Define partition keys\n",
    "        #     {\n",
    "        #         \"Name\": \"catalog\",\n",
    "        #         \"Type\": \"string\"\n",
    "        #     }\n",
    "        # ],\n",
    "        \"TableType\": \"EXTERNAL_TABLE\",\n",
    "        \"Parameters\": {\n",
    "            \"classification\": \"parquet\",   # Set classification as parquet\n",
    "            \"EXTERNAL\": \"TRUE\",            # Specify it as an external table\n",
    "            \"skip.header.line.count\": \"1\"  # Depending on your data, you might need this\n",
    "        },\n",
    "        \"StorageDescriptor\": {\n",
    "            \"Columns\": [   # Define columns\n",
    "                {\"Name\": \"product\", \"Type\": \"string\"},\n",
    "                {\"Name\": \"presentation\", \"Type\": \"string\"},\n",
    "                {\"Name\": \"brand\", \"Type\": \"string\"},\n",
    "                {\"Name\": \"category\", \"Type\": \"string\"},\n",
    "                {\"Name\": \"catalog\", \"Type\": \"string\"},\n",
    "                {\"Name\": \"price\", \"Type\": \"double\"},\n",
    "                {\"Name\": \"created_at\", \"Type\": \"date\"},\n",
    "                {\"Name\": \"store\", \"Type\": \"string\"},\n",
    "                {\"Name\": \"type_of_store\", \"Type\": \"string\"},\n",
    "                {\"Name\": \"branch\", \"Type\": \"string\"},\n",
    "                {\"Name\": \"direction\", \"Type\": \"string\"},\n",
    "                {\"Name\": \"state\", \"Type\": \"string\"},\n",
    "                {\"Name\": \"city\", \"Type\": \"string\"},\n",
    "                {\"Name\": \"latitude\", \"Type\": \"string\"},\n",
    "                {\"Name\": \"longitude\", \"Type\": \"string\"}\n",
    "            ],\n",
    "            \"Location\": f\"s3://{BUCKET_NAME}/{FOLDER_NAME}/{FILE}/\",\n",
    "            \"InputFormat\": \"org.apache.hadoop.mapred.TextInputFormat\",\n",
    "            \"OutputFormat\": \"org.apache.hadoop.hive.ql.io.HiveIgnoreKeyTextOutputFormat\",\n",
    "            \"SerdeInfo\": {\n",
    "                \"SerializationLibrary\": \"org.apache.hadoop.hive.ql.io.parquet.serde.ParquetHiveSerDe\",\n",
    "                \"Parameters\": {\n",
    "                    \"serialization.format\": \"1\"\n",
    "                }\n",
    "            }\n",
    "        }\n",
    "    }\n",
    ")\n",
    "\n",
    "print(response)"
   ]
  },
  {
   "cell_type": "code",
   "execution_count": 22,
   "metadata": {},
   "outputs": [
    {
     "data": {
      "text/plain": [
       "'s3://itam-analytics-roman/qqp/qqp/'"
      ]
     },
     "execution_count": 22,
     "metadata": {},
     "output_type": "execute_result"
    }
   ],
   "source": [
    "f\"s3://{BUCKET_NAME}/{FOLDER_NAME}/{FILE}/\""
   ]
  },
  {
   "cell_type": "code",
   "execution_count": null,
   "metadata": {},
   "outputs": [],
   "source": []
  }
 ],
 "metadata": {
  "kernelspec": {
   "display_name": "arquitectura",
   "language": "python",
   "name": "python3"
  },
  "language_info": {
   "codemirror_mode": {
    "name": "ipython",
    "version": 3
   },
   "file_extension": ".py",
   "mimetype": "text/x-python",
   "name": "python",
   "nbconvert_exporter": "python",
   "pygments_lexer": "ipython3",
   "version": "3.11.8"
  }
 },
 "nbformat": 4,
 "nbformat_minor": 2
}
